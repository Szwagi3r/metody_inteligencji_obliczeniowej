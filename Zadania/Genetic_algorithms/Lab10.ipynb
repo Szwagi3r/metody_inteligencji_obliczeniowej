{
 "cells": [
  {
   "cell_type": "markdown",
   "metadata": {},
   "source": [
    "# Algorytmy genetyczne lab2 - cutting stock\n",
    "## Dawid Przybyliński"
   ]
  },
  {
   "cell_type": "code",
   "execution_count": 1,
   "metadata": {},
   "outputs": [],
   "source": [
    "import numpy as np\n",
    "import random\n",
    "import matplotlib.pyplot as plt"
   ]
  },
  {
   "cell_type": "code",
   "execution_count": 348,
   "metadata": {},
   "outputs": [],
   "source": [
    "class cutting_stock_evolution:\n",
    "    \n",
    "    def __init__(self, rectangles, r = 300):\n",
    "        self.rect = np.asarray(rectangles.split()).reshape(-1,3).astype(int)\n",
    "        self.rect_num = self.rect.shape[0]\n",
    "        self.r = r\n",
    "        self.best = None\n",
    "        self.generation_mean = []\n",
    "            \n",
    "            \n",
    "    def initialize(self, n, max_failures=50):\n",
    "        population = []\n",
    "        for i in range(n):\n",
    "            # single creature\n",
    "            creature = []\n",
    "            keep_trying = True\n",
    "            while keep_trying:\n",
    "                rect = self.try_putting_rect(creature, max_failures)\n",
    "                if rect:\n",
    "                    creature += rect\n",
    "                else:\n",
    "                    keep_trying = False\n",
    "            population.append(creature)\n",
    "        self.generation = population\n",
    "     \n",
    "    def try_putting_rect(self, creature, max_failures):\n",
    "        \"\"\"\n",
    "        próbuje losowo wstawić nowy prostokąt do genotypu osobnika\n",
    "        po max_failures nieudanych próbach zwraca None\n",
    "        \"\"\"\n",
    "        for i in range(max_failures):\n",
    "            [x,y] = np.random.uniform(-self.r, self.r, 2)\n",
    "            [h,w,v] = evo.rect[np.random.randint(self.rect_num)]\n",
    "            rect = [x,y,h,w,v]\n",
    "            overlap_circle = self.rectangle_out_of_circle(rect)\n",
    "            overlap_rectangle = False\n",
    "            rect_idx = 0\n",
    "            while not overlap_rectangle and rect_idx < len(creature):\n",
    "                overlap_rectangle = self.rectangles_overlap([x,y,h,w], creature[rect_idx:rect_idx+5])\n",
    "                rect_idx += 5\n",
    "            if not overlap_circle and not overlap_rectangle:\n",
    "                return rect\n",
    "        return None\n",
    "    \n",
    "    \n",
    "    def rectangles_overlap(self, rect1, rect2):\n",
    "        \"\"\"\n",
    "        check whether 2 rectangles overlap, horizontal and vertical separately, then combine \n",
    "        \"\"\"\n",
    "        v_overlap = not(rect1[1]+rect1[2] < rect2[1] or rect2[1]+rect2[2] < rect1[1])     \n",
    "        h_overlap = not(rect1[0]+rect1[3] < rect2[0] or rect2[0]+rect2[3] < rect1[0])\n",
    "        return v_overlap and h_overlap\n",
    "    \n",
    "    def rectangle_out_of_circle(self, rect1):\n",
    "        \"\"\"\n",
    "        check whether rectangle is out of circle\n",
    "        \"\"\"\n",
    "        [x,y,h,w] = rect1[0:4]\n",
    "        return any([x**2+y**2>self.r**2, (x+w)**2+y**2>self.r**2,x**2+(y+h)**2>self.r**2,(x+w)**2+(y+h)**2>self.r**2])\n",
    "    \n",
    "    def visualize(self, osobnik):\n",
    "        plt.figure(figsize=(5, 5), dpi=120)\n",
    "        x = np.linspace(-self.r, self.r, 1000)\n",
    "        plt.plot(x, np.sqrt(self.r**2 - x**2), c=\"black\", linewidth=1)\n",
    "        plt.plot(x, -np.sqrt(self.r**2 - x**2), c=\"black\", linewidth=1)\n",
    "        idx = 0\n",
    "        while idx < len(osobnik):\n",
    "            [x,y,h,w,v] = osobnik[idx:idx+5]\n",
    "            plt.plot([x,x,x+w,x+w,x],[y,y+h,y+h,y,y], c='blue', linewidth=0.7)\n",
    "            plt.text(x+w/2-10,y+h/2-10,str(v))\n",
    "            idx+=5\n",
    "        plt.show()\n",
    "    \n",
    "    \n",
    "    def evolve(self, epochs = 100, p_cross = 0.7, p_mutate = 0.2):\n",
    "        \"\"\"\n",
    "        główna funkcja przeprowadzająca ewolucję i szukająca minimum\n",
    "        \"\"\"\n",
    "        iteration_counter = 0\n",
    "        current_best_value = -1\n",
    "        while True:\n",
    "            \n",
    "            # check stop condition \n",
    "            if iteration_counter == epochs:\n",
    "                return self.target(self.best, arguments = True)\n",
    "            iteration_counter += 1\n",
    "            \n",
    "            # crossover\n",
    "            parents = self.generation[np.random.choice(self.n, int(np.floor(p_cross*self.n)), replace=False), :]\n",
    "            crossed = self.crossover(parents)\n",
    "            population = np.vstack((self.generation, crossed))\n",
    "            pop_size = population.shape[0]\n",
    "            \n",
    "            # mutation\n",
    "            mutated = population[np.random.choice(pop_size, int(np.floor(p_mutate*pop_size)), replace=False), :]\n",
    "            mutated = self.mutate(mutated)\n",
    "            population = np.vstack((population, mutated))\n",
    "            \n",
    "            # evaluation\n",
    "            values = np.asarray([self.target(osobnik) for osobnik in population])\n",
    "            self.generation_mean.append(np.mean(values))\n",
    "            best_value_index = np.argmax(values)\n",
    "            if values[best_value_index] > current_best_value:\n",
    "                self.best = population[best_value_index]\n",
    "                current_best_value = values[best_value_index]\n",
    "            \n",
    "            # selection\n",
    "            prob = values/values.sum()\n",
    "            choices = np.random.choice([i for i in range(population.shape[0])], size=self.n, p=prob)\n",
    "            self.generation = np.asarray([population[choice] for choice in choices])\n",
    "            \n",
    "            \n",
    "            \n",
    "    def crossover(self,parents):\n",
    "        \"\"\"\n",
    "        krzyżowanie, narazie tylko jednopunktowe\n",
    "        dla podanych rodziców krzyżujemy 1. z 2., 3. z 4., i tak dalej\n",
    "        \"\"\"\n",
    "        children = []\n",
    "        for i in range(0, parents.shape[0]-1, 2):\n",
    "            [child_1, child_2] = self.cross(parents[i], parents[i+1])\n",
    "            children.append(child_1)\n",
    "            children.append(child_2)\n",
    "        return np.asarray(children)\n",
    "            \n",
    "            \n",
    "    def cross(self,x,y):\n",
    "        \"\"\"\n",
    "        krzyżowanie jednopunktowe, punkt podziału jest losowy z przedziału [1,len-1]\n",
    "        \"\"\"\n",
    "        split = random.randint(1,len(x)-1)\n",
    "        child_1 = np.concatenate((x[0:split], y[split:]))\n",
    "        child_2 = np.concatenate((y[0:split], x[split:]))\n",
    "        return [child_1, child_2]\n",
    "    \n",
    "    def mutate(self, to_mutate):\n",
    "        \"\"\"\n",
    "        mutacja gaussowska, przesunięcie osobnika o N(0,1)^self.m\n",
    "        \"\"\"\n",
    "        for i, osobnik in enumerate(to_mutate):\n",
    "            for j, gen in enumerate(osobnik):\n",
    "                to_mutate[i][j] += np.random.normal(0,1)\n",
    "        return to_mutate"
   ]
  },
  {
   "cell_type": "markdown",
   "metadata": {},
   "source": [
    "## Testowanie"
   ]
  },
  {
   "cell_type": "code",
   "execution_count": 354,
   "metadata": {},
   "outputs": [],
   "source": [
    "evo = cutting_stock_evolution(\"100 50 2 100 100 3 30 70 1\")"
   ]
  },
  {
   "cell_type": "code",
   "execution_count": 355,
   "metadata": {},
   "outputs": [
    {
     "data": {
      "text/plain": [
       "array([[100,  50,   2],\n",
       "       [100, 100,   3],\n",
       "       [ 30,  70,   1]])"
      ]
     },
     "execution_count": 355,
     "metadata": {},
     "output_type": "execute_result"
    }
   ],
   "source": [
    "evo.rect"
   ]
  },
  {
   "cell_type": "code",
   "execution_count": 356,
   "metadata": {},
   "outputs": [
    {
     "data": {
      "text/plain": [
       "3"
      ]
     },
     "execution_count": 356,
     "metadata": {},
     "output_type": "execute_result"
    }
   ],
   "source": [
    "evo.rect_num"
   ]
  },
  {
   "cell_type": "code",
   "execution_count": 357,
   "metadata": {},
   "outputs": [],
   "source": [
    "evo.initialize(5)"
   ]
  },
  {
   "cell_type": "code",
   "execution_count": 358,
   "metadata": {},
   "outputs": [
    {
     "data": {
      "image/png": "[encoded data removed]",
      "text/plain": [
       "<Figure size 600x600 with 1 Axes>"
      ]
     },
     "metadata": {
      "needs_background": "light"
     },
     "output_type": "display_data"
    }
   ],
   "source": [
    "evo.visualize(evo.generation[3])"
   ]
  },
  {
   "cell_type": "code",
   "execution_count": null,
   "metadata": {},
   "outputs": [],
   "source": []
  }
 ],
 "metadata": {
  "kernelspec": {
   "display_name": "Python 3",
   "language": "python",
   "name": "python3"
  },
  "language_info": {
   "codemirror_mode": {
    "name": "ipython",
    "version": 3
   },
   "file_extension": ".py",
   "mimetype": "text/x-python",
   "name": "python",
   "nbconvert_exporter": "python",
   "pygments_lexer": "ipython3",
   "version": "3.6.8"
  }
 },
 "nbformat": 4,
 "nbformat_minor": 2
}
