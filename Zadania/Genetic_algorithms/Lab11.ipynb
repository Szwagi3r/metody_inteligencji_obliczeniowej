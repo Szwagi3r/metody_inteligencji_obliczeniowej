{
 "cells": [
  {
   "cell_type": "markdown",
   "metadata": {},
   "source": [
    "## Dawid Przybyliński - Algorytmy genetyczne - Lab 3"
   ]
  },
  {
   "cell_type": "markdown",
   "metadata": {},
   "source": [
    "### Implementacja algorytmu genetycznego do optymalizacji wag sieci MLP"
   ]
  },
  {
   "cell_type": "code",
   "execution_count": 1,
   "metadata": {},
   "outputs": [],
   "source": [
    "import numpy as np\n",
    "import pandas as pd\n",
    "import matplotlib.pyplot as plt\n",
    "from sklearn.metrics import mean_squared_error\n",
    "from sklearn.model_selection import train_test_split\n",
    "from sklearn.metrics import accuracy_score"
   ]
  },
  {
   "cell_type": "code",
   "execution_count": 2,
   "metadata": {},
   "outputs": [],
   "source": [
    "class genetic_MLP:\n",
    "    \n",
    "    def __init__(self, structure):\n",
    "        self.structure = structure\n",
    "        self.generation_mean = []\n",
    "    \n",
    "    \n",
    "    def initialize(self, n, init_method = 'uniform -1 1'):\n",
    "        \"\"\"\n",
    "        initialize population (size: n), gens are split for weights part and biases part\n",
    "        all values are random uniforms from [-1,1]\n",
    "        \"\"\"\n",
    "        self.n = n \n",
    "        init_method = init_method.split()\n",
    "        if init_method[0] == 'uniform':\n",
    "            self.generation_w = [np.array([np.random.uniform(float(init_method[1]),float(init_method[2]),size=(self.structure[i],self.structure[i+1])) for i in range(len(self.structure)-1)]) for i in range(self.n)]\n",
    "            self.generation_b = [[np.random.uniform(float(init_method[1]),float(init_method[2]),size=(1,self.structure[i+1])) for i in range(len(self.structure)-1)] for i in range(self.n)]\n",
    "    \n",
    "    \n",
    "    def mlp_forward(self, inputs, weights, biases):\n",
    "        \"\"\"\n",
    "        standard MLP signal propagation for given inputs, weights and biases\n",
    "        \"\"\"\n",
    "        activations = inputs\n",
    "        for i in range(len(self.structure)-2):\n",
    "            output = np.dot(activations, weights[i]) + biases[i]\n",
    "            activations = 1 / (1 + np.exp(-output))\n",
    "        result = np.dot(activations, weights[-1]) + biases[-1]\n",
    "        return result\n",
    "        \n",
    "        \n",
    "    def evolve(self, data, true, epochs=100, p_cross=0.7, p_mutate=0.2, args=False):\n",
    "        \"\"\"\n",
    "        main MLP learning function with genetic algorithm\n",
    "        \"\"\"\n",
    "        self.data = data\n",
    "        self.true = true\n",
    "        iteration_counter = 0\n",
    "        current_best_value = -1\n",
    "        while True:\n",
    "        \n",
    "            # check stop condition \n",
    "            if iteration_counter == epochs:\n",
    "                if args:\n",
    "                    return [self.best[0], self.best[1], 1/self.evaluate(self.best[0], self.best[1])]\n",
    "                else:\n",
    "                    return 1/self.evaluate(self.best[0], self.best[1])\n",
    "            iteration_counter += 1\n",
    "            print(\"Epoch: {}/{}\".format(iteration_counter,epochs), end='\\r')\n",
    "            \n",
    "            # crossover\n",
    "            parent_choice = np.random.choice(self.n, int(np.floor(p_cross*self.n)), replace=False)\n",
    "            parents_w = []\n",
    "            parents_b = []\n",
    "            for choice in parent_choice:\n",
    "                parents_w.append(self.generation_w[choice])\n",
    "                parents_b.append(self.generation_b[choice])\n",
    "            [crossed_w, crossed_b] = self.crossover(parents_w, parents_b)\n",
    "            \n",
    "            # mutation\n",
    "            mutation_choice = np.random.choice(self.n, int(np.floor(p_mutate*self.n)), replace=False)\n",
    "            to_mutate_w = []\n",
    "            to_mutate_b = []\n",
    "            for choice in mutation_choice:\n",
    "                to_mutate_w.append(self.generation_w[choice])\n",
    "                to_mutate_b.append(self.generation_b[choice])\n",
    "            [mutated_w, mutated_b] = self.mutate(to_mutate_w, to_mutate_b)\n",
    "            \n",
    "            # evaluation\n",
    "            population_w = self.generation_w + crossed_w + mutated_w\n",
    "            population_b = self.generation_b + crossed_b + mutated_b\n",
    "            \n",
    "            values = np.asarray([self.evaluate(population_w[i], population_b[i]) for i in range(len(population_w))])\n",
    "            self.generation_mean.append(np.mean(values))\n",
    "            \n",
    "            best_value_index = np.argmax(values)\n",
    "            if values[best_value_index] > current_best_value:\n",
    "                self.best = [population_w[best_value_index], population_b[best_value_index]]\n",
    "                current_best_value = values[best_value_index]\n",
    "            \n",
    "            # selection\n",
    "            prob = values/values.sum()\n",
    "            choices = np.random.choice([i for i in range(len(population_w))], size=self.n, p=prob)\n",
    "            self.generation_w = []\n",
    "            self.generation_b = []\n",
    "            for choice in choices:\n",
    "                self.generation_w.append(population_w[choice])\n",
    "                self.generation_b.append(population_b[choice])\n",
    "            \n",
    "    \n",
    "    def evaluate(self, w, b):\n",
    "        \"\"\"\n",
    "        evaluation function - 1/MSE, as we aim to maximize output and minimize MSE\n",
    "        \"\"\"\n",
    "        pred = self.mlp_forward(self.data, w, b)\n",
    "        error = mean_squared_error(self.true, pred)\n",
    "        return 1/error\n",
    "        \n",
    "    \n",
    "    def crossover(self, parents_w, parents_b):\n",
    "        \"\"\"\n",
    "        krzyżowanie jednopunktowe, losowy punkt podziału jest wspólny dla wag i biasów\n",
    "        \"\"\"\n",
    "        children_w = []\n",
    "        children_b = []\n",
    "        for i in range(0, len(parents_w)-1, 2):\n",
    "            \n",
    "            split = np.random.randint(len(parents_w[i])-1)\n",
    "            [child_1_w, child_2_w, child_1_b, child_2_b] = [[],[],[],[]]\n",
    "            \n",
    "            for j in range(len(parents_b[i])):\n",
    "                if j <= split:\n",
    "                    child_1_w.append(parents_w[i][j])\n",
    "                    child_2_w.append(parents_w[i+1][j])\n",
    "                    \n",
    "                    child_1_b.append(parents_b[i][j])\n",
    "                    child_2_b.append(parents_b[i+1][j])\n",
    "                else:\n",
    "                    child_1_w.append(parents_w[i+1][j])\n",
    "                    child_2_w.append(parents_w[i][j])\n",
    "                    \n",
    "                    child_1_b.append(parents_b[i+1][j])\n",
    "                    child_2_b.append(parents_b[i][j])\n",
    "                    \n",
    "            children_w.append(child_1_w)\n",
    "            children_w.append(child_2_w)\n",
    "            \n",
    "            children_b.append(child_1_b)\n",
    "            children_b.append(child_2_b)\n",
    "        return [children_w, children_b]\n",
    "\n",
    "    \n",
    "    def mutate(self, pop_w, pop_b):\n",
    "        \"\"\"\n",
    "        mutacja gaussowska, każda zmienna jest przesuwana o kolejną zmienną z rozkładu N(0,1)\n",
    "        \"\"\"\n",
    "        mutated_w = []\n",
    "        mutated_b = []\n",
    "        for i in range(len(pop_w)):\n",
    "            w = pop_w[i]\n",
    "            b = pop_b[i]\n",
    "            mutated_w.append([elem + np.random.normal(0,1,size=(elem.shape[0],elem.shape[1])) for elem in w])\n",
    "            mutated_b.append([elem + np.random.normal(0,1,size=(elem.shape[0],elem.shape[1])) for elem in b])\n",
    "        return [mutated_w, mutated_b]\n",
    "        "
   ]
  },
  {
   "cell_type": "markdown",
   "metadata": {},
   "source": [
    "### Zbiór Iris\n",
    "Na początku przebadamy działanie algorytmu na zbiorze iris. "
   ]
  },
  {
   "cell_type": "code",
   "execution_count": 3,
   "metadata": {},
   "outputs": [],
   "source": [
    "iris = pd.read_csv(\"datasets/mio3/iris.data\", header=None)"
   ]
  },
  {
   "cell_type": "code",
   "execution_count": 4,
   "metadata": {},
   "outputs": [
    {
     "data": {
      "text/html": [
       "<div>\n",
       "<style scoped>\n",
       "    .dataframe tbody tr th:only-of-type {\n",
       "        vertical-align: middle;\n",
       "    }\n",
       "\n",
       "    .dataframe tbody tr th {\n",
       "        vertical-align: top;\n",
       "    }\n",
       "\n",
       "    .dataframe thead th {\n",
       "        text-align: right;\n",
       "    }\n",
       "</style>\n",
       "<table border=\"1\" class=\"dataframe\">\n",
       "  <thead>\n",
       "    <tr style=\"text-align: right;\">\n",
       "      <th></th>\n",
       "      <th>0</th>\n",
       "      <th>1</th>\n",
       "      <th>2</th>\n",
       "      <th>3</th>\n",
       "      <th>4</th>\n",
       "    </tr>\n",
       "  </thead>\n",
       "  <tbody>\n",
       "    <tr>\n",
       "      <th>0</th>\n",
       "      <td>5.1</td>\n",
       "      <td>3.5</td>\n",
       "      <td>1.4</td>\n",
       "      <td>0.2</td>\n",
       "      <td>Iris-setosa</td>\n",
       "    </tr>\n",
       "    <tr>\n",
       "      <th>1</th>\n",
       "      <td>4.9</td>\n",
       "      <td>3.0</td>\n",
       "      <td>1.4</td>\n",
       "      <td>0.2</td>\n",
       "      <td>Iris-setosa</td>\n",
       "    </tr>\n",
       "    <tr>\n",
       "      <th>2</th>\n",
       "      <td>4.7</td>\n",
       "      <td>3.2</td>\n",
       "      <td>1.3</td>\n",
       "      <td>0.2</td>\n",
       "      <td>Iris-setosa</td>\n",
       "    </tr>\n",
       "    <tr>\n",
       "      <th>3</th>\n",
       "      <td>4.6</td>\n",
       "      <td>3.1</td>\n",
       "      <td>1.5</td>\n",
       "      <td>0.2</td>\n",
       "      <td>Iris-setosa</td>\n",
       "    </tr>\n",
       "    <tr>\n",
       "      <th>4</th>\n",
       "      <td>5.0</td>\n",
       "      <td>3.6</td>\n",
       "      <td>1.4</td>\n",
       "      <td>0.2</td>\n",
       "      <td>Iris-setosa</td>\n",
       "    </tr>\n",
       "    <tr>\n",
       "      <th>...</th>\n",
       "      <td>...</td>\n",
       "      <td>...</td>\n",
       "      <td>...</td>\n",
       "      <td>...</td>\n",
       "      <td>...</td>\n",
       "    </tr>\n",
       "    <tr>\n",
       "      <th>145</th>\n",
       "      <td>6.7</td>\n",
       "      <td>3.0</td>\n",
       "      <td>5.2</td>\n",
       "      <td>2.3</td>\n",
       "      <td>Iris-virginica</td>\n",
       "    </tr>\n",
       "    <tr>\n",
       "      <th>146</th>\n",
       "      <td>6.3</td>\n",
       "      <td>2.5</td>\n",
       "      <td>5.0</td>\n",
       "      <td>1.9</td>\n",
       "      <td>Iris-virginica</td>\n",
       "    </tr>\n",
       "    <tr>\n",
       "      <th>147</th>\n",
       "      <td>6.5</td>\n",
       "      <td>3.0</td>\n",
       "      <td>5.2</td>\n",
       "      <td>2.0</td>\n",
       "      <td>Iris-virginica</td>\n",
       "    </tr>\n",
       "    <tr>\n",
       "      <th>148</th>\n",
       "      <td>6.2</td>\n",
       "      <td>3.4</td>\n",
       "      <td>5.4</td>\n",
       "      <td>2.3</td>\n",
       "      <td>Iris-virginica</td>\n",
       "    </tr>\n",
       "    <tr>\n",
       "      <th>149</th>\n",
       "      <td>5.9</td>\n",
       "      <td>3.0</td>\n",
       "      <td>5.1</td>\n",
       "      <td>1.8</td>\n",
       "      <td>Iris-virginica</td>\n",
       "    </tr>\n",
       "  </tbody>\n",
       "</table>\n",
       "<p>150 rows × 5 columns</p>\n",
       "</div>"
      ],
      "text/plain": [
       "       0    1    2    3               4\n",
       "0    5.1  3.5  1.4  0.2     Iris-setosa\n",
       "1    4.9  3.0  1.4  0.2     Iris-setosa\n",
       "2    4.7  3.2  1.3  0.2     Iris-setosa\n",
       "3    4.6  3.1  1.5  0.2     Iris-setosa\n",
       "4    5.0  3.6  1.4  0.2     Iris-setosa\n",
       "..   ...  ...  ...  ...             ...\n",
       "145  6.7  3.0  5.2  2.3  Iris-virginica\n",
       "146  6.3  2.5  5.0  1.9  Iris-virginica\n",
       "147  6.5  3.0  5.2  2.0  Iris-virginica\n",
       "148  6.2  3.4  5.4  2.3  Iris-virginica\n",
       "149  5.9  3.0  5.1  1.8  Iris-virginica\n",
       "\n",
       "[150 rows x 5 columns]"
      ]
     },
     "execution_count": 4,
     "metadata": {},
     "output_type": "execute_result"
    }
   ],
   "source": [
    "iris"
   ]
  },
  {
   "cell_type": "code",
   "execution_count": 5,
   "metadata": {},
   "outputs": [],
   "source": [
    "iris_x = np.asarray(iris.iloc[:,0:4])\n",
    "iris_y = np.asarray(iris.iloc[:,4])\n",
    "iris_y = np.unique(iris_y, return_inverse=True)[1]"
   ]
  },
  {
   "cell_type": "code",
   "execution_count": 6,
   "metadata": {},
   "outputs": [
    {
     "data": {
      "text/plain": [
       "array([0, 0, 0, 0, 0, 0, 0, 0, 0, 0, 0, 0, 0, 0, 0, 0, 0, 0, 0, 0, 0, 0,\n",
       "       0, 0, 0, 0, 0, 0, 0, 0, 0, 0, 0, 0, 0, 0, 0, 0, 0, 0, 0, 0, 0, 0,\n",
       "       0, 0, 0, 0, 0, 0, 1, 1, 1, 1, 1, 1, 1, 1, 1, 1, 1, 1, 1, 1, 1, 1,\n",
       "       1, 1, 1, 1, 1, 1, 1, 1, 1, 1, 1, 1, 1, 1, 1, 1, 1, 1, 1, 1, 1, 1,\n",
       "       1, 1, 1, 1, 1, 1, 1, 1, 1, 1, 1, 1, 2, 2, 2, 2, 2, 2, 2, 2, 2, 2,\n",
       "       2, 2, 2, 2, 2, 2, 2, 2, 2, 2, 2, 2, 2, 2, 2, 2, 2, 2, 2, 2, 2, 2,\n",
       "       2, 2, 2, 2, 2, 2, 2, 2, 2, 2, 2, 2, 2, 2, 2, 2, 2, 2])"
      ]
     },
     "execution_count": 6,
     "metadata": {},
     "output_type": "execute_result"
    }
   ],
   "source": [
    "iris_y"
   ]
  },
  {
   "cell_type": "code",
   "execution_count": 7,
   "metadata": {},
   "outputs": [
    {
     "data": {
      "image/png": "[encoded data removed]",
      "text/plain": [
       "<Figure size 432x288 with 1 Axes>"
      ]
     },
     "metadata": {
      "needs_background": "light"
     },
     "output_type": "display_data"
    }
   ],
   "source": [
    "plt.scatter(iris.iloc[:,0], iris.iloc[:,1], c=iris_y)\n",
    "plt.title(\"zbiór iris\")\n",
    "plt.xlabel('sepal lenght')\n",
    "plt.ylabel('sepal width')\n",
    "plt.show()"
   ]
  },
  {
   "cell_type": "code",
   "execution_count": 8,
   "metadata": {},
   "outputs": [
    {
     "name": "stdout",
     "output_type": "stream",
     "text": [
      "Epoch: 500/500\r"
     ]
    },
    {
     "data": {
      "text/plain": [
       "0.08887039812963518"
      ]
     },
     "execution_count": 8,
     "metadata": {},
     "output_type": "execute_result"
    }
   ],
   "source": [
    "q = genetic_MLP([4,5,5,1])\n",
    "q.initialize(50)\n",
    "q.evolve(iris_x,iris_y, epochs=500)"
   ]
  },
  {
   "cell_type": "code",
   "execution_count": 9,
   "metadata": {},
   "outputs": [
    {
     "data": {
      "image/png": "[encoded data removed]",
      "text/plain": [
       "<Figure size 432x288 with 1 Axes>"
      ]
     },
     "metadata": {
      "needs_background": "light"
     },
     "output_type": "display_data"
    }
   ],
   "source": [
    "plt.plot(np.linspace(1,500,500), [1/i for i in q.generation_mean])\n",
    "plt.title('MSE dla kolejnych epok')\n",
    "plt.xlabel(\"Epoka\")\n",
    "plt.ylabel(\"MSE\")\n",
    "plt.show()"
   ]
  },
  {
   "cell_type": "markdown",
   "metadata": {},
   "source": [
    "Błąd jest bardzo mały, zatem zaokrąglając otrzymane liczby otrzymamy dobry klasyfikator - o ile się nie przeucza. Warto jednak to sprawdzić, dlatego teraz będziemy dzielić zbiór na treningowy i testowy."
   ]
  },
  {
   "cell_type": "code",
   "execution_count": 10,
   "metadata": {},
   "outputs": [],
   "source": [
    "X_train, X_test, y_train, y_test = train_test_split(iris_x, iris_y, test_size=0.3, random_state=42)"
   ]
  },
  {
   "cell_type": "code",
   "execution_count": 11,
   "metadata": {},
   "outputs": [
    {
     "data": {
      "text/plain": [
       "array([1, 2, 2, 1, 2, 1, 2, 1, 0, 2, 1, 0, 0, 0, 1, 2, 0, 0, 0, 1, 0, 1,\n",
       "       2, 0, 1, 2, 0, 2, 2, 1, 1, 2, 1, 0, 1, 2, 0, 0, 1, 1, 0, 2, 0, 0,\n",
       "       1, 1, 2, 1, 2, 2, 1, 0, 0, 2, 2, 0, 0, 0, 1, 2, 0, 2, 2, 0, 1, 1,\n",
       "       2, 1, 2, 0, 2, 1, 2, 1, 1, 1, 0, 1, 1, 0, 1, 2, 2, 0, 1, 2, 2, 0,\n",
       "       2, 0, 1, 2, 2, 1, 2, 1, 1, 2, 2, 0, 1, 2, 0, 1, 2])"
      ]
     },
     "execution_count": 11,
     "metadata": {},
     "output_type": "execute_result"
    }
   ],
   "source": [
    "y_train"
   ]
  },
  {
   "cell_type": "code",
   "execution_count": 12,
   "metadata": {},
   "outputs": [
    {
     "name": "stdout",
     "output_type": "stream",
     "text": [
      "Epoch: 500/500\r"
     ]
    }
   ],
   "source": [
    "q = genetic_MLP([4,5,5,1])\n",
    "q.initialize(50)\n",
    "result = q.evolve(X_train, y_train, epochs=500, args = True)"
   ]
  },
  {
   "cell_type": "code",
   "execution_count": 13,
   "metadata": {},
   "outputs": [
    {
     "data": {
      "text/plain": [
       "0.0601414209965951"
      ]
     },
     "execution_count": 13,
     "metadata": {},
     "output_type": "execute_result"
    }
   ],
   "source": [
    "result[2]"
   ]
  },
  {
   "cell_type": "code",
   "execution_count": 14,
   "metadata": {},
   "outputs": [],
   "source": [
    "preds_train = q.mlp_forward(X_train, q.best[0], q.best[1])\n",
    "preds_test = q.mlp_forward(X_test, q.best[0], q.best[1])"
   ]
  },
  {
   "cell_type": "code",
   "execution_count": 15,
   "metadata": {},
   "outputs": [
    {
     "name": "stdout",
     "output_type": "stream",
     "text": [
      "Train accuracy: 0.9523809523809523\n",
      "Test accuracy: 0.9777777777777777\n"
     ]
    }
   ],
   "source": [
    "print(\"Train accuracy: {}\".format(accuracy_score(y_train, np.round(preds_train.flatten()).astype(int))))\n",
    "print(\"Test accuracy: {}\".format(accuracy_score(y_test, np.round(preds_test.flatten()).astype(int))))"
   ]
  },
  {
   "cell_type": "markdown",
   "metadata": {},
   "source": [
    "Jak widać algorytm radzi sobie bardzo dobrze, pomimo podziału małego zbioru na treningowy i testowy."
   ]
  },
  {
   "cell_type": "markdown",
   "metadata": {},
   "source": [
    "## Zbiór Multimodal Large"
   ]
  },
  {
   "cell_type": "code",
   "execution_count": 16,
   "metadata": {},
   "outputs": [],
   "source": [
    "train = pd.read_csv(\"datasets/regression/multimodal-large-training.csv\", index_col = 0)\n",
    "test = pd.read_csv(\"datasets/regression/multimodal-large-test.csv\", index_col = 0)"
   ]
  },
  {
   "cell_type": "code",
   "execution_count": 17,
   "metadata": {},
   "outputs": [
    {
     "data": {
      "text/html": [
       "<div>\n",
       "<style scoped>\n",
       "    .dataframe tbody tr th:only-of-type {\n",
       "        vertical-align: middle;\n",
       "    }\n",
       "\n",
       "    .dataframe tbody tr th {\n",
       "        vertical-align: top;\n",
       "    }\n",
       "\n",
       "    .dataframe thead th {\n",
       "        text-align: right;\n",
       "    }\n",
       "</style>\n",
       "<table border=\"1\" class=\"dataframe\">\n",
       "  <thead>\n",
       "    <tr style=\"text-align: right;\">\n",
       "      <th></th>\n",
       "      <th>x</th>\n",
       "      <th>y</th>\n",
       "    </tr>\n",
       "  </thead>\n",
       "  <tbody>\n",
       "    <tr>\n",
       "      <th>1</th>\n",
       "      <td>-0.685726</td>\n",
       "      <td>-80</td>\n",
       "    </tr>\n",
       "    <tr>\n",
       "      <th>2</th>\n",
       "      <td>-0.879898</td>\n",
       "      <td>-80</td>\n",
       "    </tr>\n",
       "    <tr>\n",
       "      <th>3</th>\n",
       "      <td>1.411932</td>\n",
       "      <td>80</td>\n",
       "    </tr>\n",
       "    <tr>\n",
       "      <th>4</th>\n",
       "      <td>1.688954</td>\n",
       "      <td>160</td>\n",
       "    </tr>\n",
       "    <tr>\n",
       "      <th>5</th>\n",
       "      <td>-0.573238</td>\n",
       "      <td>-80</td>\n",
       "    </tr>\n",
       "    <tr>\n",
       "      <th>...</th>\n",
       "      <td>...</td>\n",
       "      <td>...</td>\n",
       "    </tr>\n",
       "    <tr>\n",
       "      <th>9996</th>\n",
       "      <td>-0.194391</td>\n",
       "      <td>0</td>\n",
       "    </tr>\n",
       "    <tr>\n",
       "      <th>9997</th>\n",
       "      <td>1.012924</td>\n",
       "      <td>80</td>\n",
       "    </tr>\n",
       "    <tr>\n",
       "      <th>9998</th>\n",
       "      <td>0.569789</td>\n",
       "      <td>80</td>\n",
       "    </tr>\n",
       "    <tr>\n",
       "      <th>9999</th>\n",
       "      <td>0.538241</td>\n",
       "      <td>80</td>\n",
       "    </tr>\n",
       "    <tr>\n",
       "      <th>10000</th>\n",
       "      <td>-0.390941</td>\n",
       "      <td>0</td>\n",
       "    </tr>\n",
       "  </tbody>\n",
       "</table>\n",
       "<p>10000 rows × 2 columns</p>\n",
       "</div>"
      ],
      "text/plain": [
       "              x    y\n",
       "1     -0.685726  -80\n",
       "2     -0.879898  -80\n",
       "3      1.411932   80\n",
       "4      1.688954  160\n",
       "5     -0.573238  -80\n",
       "...         ...  ...\n",
       "9996  -0.194391    0\n",
       "9997   1.012924   80\n",
       "9998   0.569789   80\n",
       "9999   0.538241   80\n",
       "10000 -0.390941    0\n",
       "\n",
       "[10000 rows x 2 columns]"
      ]
     },
     "execution_count": 17,
     "metadata": {},
     "output_type": "execute_result"
    }
   ],
   "source": [
    "train"
   ]
  },
  {
   "cell_type": "code",
   "execution_count": 18,
   "metadata": {},
   "outputs": [],
   "source": [
    "X_train = np.asarray(train.iloc[:,0]).reshape(-1,1)\n",
    "y_train = np.asarray(train.iloc[:,1]).reshape(-1,1)\n",
    "X_test = np.asarray(test.iloc[:,0]).reshape(-1,1)\n",
    "y_test = np.asarray(test.iloc[:,1]).reshape(-1,1)"
   ]
  },
  {
   "cell_type": "code",
   "execution_count": 19,
   "metadata": {},
   "outputs": [
    {
     "data": {
      "text/plain": [
       "array([[-0.68572568],\n",
       "       [-0.87989777],\n",
       "       [ 1.41193195],\n",
       "       ...,\n",
       "       [ 0.56978928],\n",
       "       [ 0.53824098],\n",
       "       [-0.39094106]])"
      ]
     },
     "execution_count": 19,
     "metadata": {},
     "output_type": "execute_result"
    }
   ],
   "source": [
    "X_train"
   ]
  },
  {
   "cell_type": "code",
   "execution_count": 20,
   "metadata": {},
   "outputs": [
    {
     "name": "stdout",
     "output_type": "stream",
     "text": [
      "Epoch: 2500/2500\r"
     ]
    }
   ],
   "source": [
    "q = genetic_MLP([1,8,1])\n",
    "q.initialize(50)\n",
    "result = q.evolve(X_train, y_train, epochs=2500, args = True)"
   ]
  },
  {
   "cell_type": "code",
   "execution_count": 21,
   "metadata": {},
   "outputs": [
    {
     "data": {
      "text/plain": [
       "190.74770106837101"
      ]
     },
     "execution_count": 21,
     "metadata": {},
     "output_type": "execute_result"
    }
   ],
   "source": [
    "result[2]"
   ]
  },
  {
   "cell_type": "code",
   "execution_count": 22,
   "metadata": {},
   "outputs": [
    {
     "data": {
      "image/png": "[encoded data removed]",
      "text/plain": [
       "<Figure size 432x288 with 1 Axes>"
      ]
     },
     "metadata": {
      "needs_background": "light"
     },
     "output_type": "display_data"
    }
   ],
   "source": [
    "plt.plot(np.linspace(1,2500,2500), [1/i for i in q.generation_mean])\n",
    "plt.title('MSE dla kolejnych epok')\n",
    "plt.xlabel(\"Epoka\")\n",
    "plt.ylabel(\"MSE\")\n",
    "plt.show()"
   ]
  },
  {
   "cell_type": "code",
   "execution_count": 23,
   "metadata": {},
   "outputs": [],
   "source": [
    "preds_train = q.mlp_forward(X_train, q.best[0], q.best[1])\n",
    "preds_test = q.mlp_forward(X_test, q.best[0], q.best[1])"
   ]
  },
  {
   "cell_type": "code",
   "execution_count": 24,
   "metadata": {},
   "outputs": [
    {
     "name": "stdout",
     "output_type": "stream",
     "text": [
      "Train MSE: 190.74770106837101\n",
      "Test MSE: 201.5575009889351\n"
     ]
    }
   ],
   "source": [
    "print(\"Train MSE: {}\".format(mean_squared_error(y_train,preds_train)))\n",
    "print(\"Test MSE: {}\".format(mean_squared_error(y_test,preds_test)))"
   ]
  },
  {
   "cell_type": "code",
   "execution_count": 25,
   "metadata": {},
   "outputs": [
    {
     "data": {
      "image/png": "[encoded data removed]",
      "text/plain": [
       "<Figure size 1120x320 with 2 Axes>"
      ]
     },
     "metadata": {
      "needs_background": "light"
     },
     "output_type": "display_data"
    }
   ],
   "source": [
    "plt.figure(figsize=(14, 4), dpi=80)\n",
    "plt.subplot(121)\n",
    "plt.scatter(X_train, y_train, s=5)\n",
    "plt.scatter(X_train, preds_train, s=3)\n",
    "plt.xlabel(\"x\")\n",
    "plt.xlabel(\"y\")\n",
    "plt.title(\"Train performance\")\n",
    "plt.subplot(122)\n",
    "plt.scatter(X_test, y_test, s=5)\n",
    "plt.scatter(X_test, preds_test, s=3)\n",
    "plt.xlabel(\"x\")\n",
    "plt.xlabel(\"y\")\n",
    "plt.title(\"Test performance\")\n",
    "plt.show()"
   ]
  },
  {
   "cell_type": "markdown",
   "metadata": {},
   "source": [
    "## Zbiór auto-mpg"
   ]
  },
  {
   "cell_type": "code",
   "execution_count": 26,
   "metadata": {},
   "outputs": [],
   "source": [
    "auto = pd.read_csv(\"datasets/mio3/auto-mpg.data\", sep=\" \", header=None)"
   ]
  },
  {
   "cell_type": "code",
   "execution_count": 27,
   "metadata": {},
   "outputs": [
    {
     "data": {
      "text/html": [
       "<div>\n",
       "<style scoped>\n",
       "    .dataframe tbody tr th:only-of-type {\n",
       "        vertical-align: middle;\n",
       "    }\n",
       "\n",
       "    .dataframe tbody tr th {\n",
       "        vertical-align: top;\n",
       "    }\n",
       "\n",
       "    .dataframe thead th {\n",
       "        text-align: right;\n",
       "    }\n",
       "</style>\n",
       "<table border=\"1\" class=\"dataframe\">\n",
       "  <thead>\n",
       "    <tr style=\"text-align: right;\">\n",
       "      <th></th>\n",
       "      <th>0</th>\n",
       "      <th>1</th>\n",
       "      <th>2</th>\n",
       "      <th>3</th>\n",
       "      <th>4</th>\n",
       "      <th>5</th>\n",
       "      <th>6</th>\n",
       "      <th>7</th>\n",
       "    </tr>\n",
       "  </thead>\n",
       "  <tbody>\n",
       "    <tr>\n",
       "      <th>0</th>\n",
       "      <td>18.0</td>\n",
       "      <td>8</td>\n",
       "      <td>307.0</td>\n",
       "      <td>130.0</td>\n",
       "      <td>3504.0</td>\n",
       "      <td>12.0</td>\n",
       "      <td>70</td>\n",
       "      <td>1</td>\n",
       "    </tr>\n",
       "    <tr>\n",
       "      <th>1</th>\n",
       "      <td>15.0</td>\n",
       "      <td>8</td>\n",
       "      <td>350.0</td>\n",
       "      <td>165.0</td>\n",
       "      <td>3693.0</td>\n",
       "      <td>11.5</td>\n",
       "      <td>70</td>\n",
       "      <td>1</td>\n",
       "    </tr>\n",
       "    <tr>\n",
       "      <th>2</th>\n",
       "      <td>18.0</td>\n",
       "      <td>8</td>\n",
       "      <td>318.0</td>\n",
       "      <td>150.0</td>\n",
       "      <td>3436.0</td>\n",
       "      <td>11.0</td>\n",
       "      <td>70</td>\n",
       "      <td>1</td>\n",
       "    </tr>\n",
       "    <tr>\n",
       "      <th>3</th>\n",
       "      <td>16.0</td>\n",
       "      <td>8</td>\n",
       "      <td>304.0</td>\n",
       "      <td>150.0</td>\n",
       "      <td>3433.0</td>\n",
       "      <td>12.0</td>\n",
       "      <td>70</td>\n",
       "      <td>1</td>\n",
       "    </tr>\n",
       "    <tr>\n",
       "      <th>4</th>\n",
       "      <td>17.0</td>\n",
       "      <td>8</td>\n",
       "      <td>302.0</td>\n",
       "      <td>140.0</td>\n",
       "      <td>3449.0</td>\n",
       "      <td>10.5</td>\n",
       "      <td>70</td>\n",
       "      <td>1</td>\n",
       "    </tr>\n",
       "    <tr>\n",
       "      <th>...</th>\n",
       "      <td>...</td>\n",
       "      <td>...</td>\n",
       "      <td>...</td>\n",
       "      <td>...</td>\n",
       "      <td>...</td>\n",
       "      <td>...</td>\n",
       "      <td>...</td>\n",
       "      <td>...</td>\n",
       "    </tr>\n",
       "    <tr>\n",
       "      <th>387</th>\n",
       "      <td>27.0</td>\n",
       "      <td>4</td>\n",
       "      <td>140.0</td>\n",
       "      <td>86.0</td>\n",
       "      <td>2790.0</td>\n",
       "      <td>15.6</td>\n",
       "      <td>82</td>\n",
       "      <td>1</td>\n",
       "    </tr>\n",
       "    <tr>\n",
       "      <th>388</th>\n",
       "      <td>44.0</td>\n",
       "      <td>4</td>\n",
       "      <td>97.0</td>\n",
       "      <td>52.0</td>\n",
       "      <td>2130.0</td>\n",
       "      <td>24.6</td>\n",
       "      <td>82</td>\n",
       "      <td>2</td>\n",
       "    </tr>\n",
       "    <tr>\n",
       "      <th>389</th>\n",
       "      <td>32.0</td>\n",
       "      <td>4</td>\n",
       "      <td>135.0</td>\n",
       "      <td>84.0</td>\n",
       "      <td>2295.0</td>\n",
       "      <td>11.6</td>\n",
       "      <td>82</td>\n",
       "      <td>1</td>\n",
       "    </tr>\n",
       "    <tr>\n",
       "      <th>390</th>\n",
       "      <td>28.0</td>\n",
       "      <td>4</td>\n",
       "      <td>120.0</td>\n",
       "      <td>79.0</td>\n",
       "      <td>2625.0</td>\n",
       "      <td>18.6</td>\n",
       "      <td>82</td>\n",
       "      <td>1</td>\n",
       "    </tr>\n",
       "    <tr>\n",
       "      <th>391</th>\n",
       "      <td>31.0</td>\n",
       "      <td>4</td>\n",
       "      <td>119.0</td>\n",
       "      <td>82.0</td>\n",
       "      <td>2720.0</td>\n",
       "      <td>19.4</td>\n",
       "      <td>82</td>\n",
       "      <td>1</td>\n",
       "    </tr>\n",
       "  </tbody>\n",
       "</table>\n",
       "<p>392 rows × 8 columns</p>\n",
       "</div>"
      ],
      "text/plain": [
       "        0  1      2      3       4     5   6  7\n",
       "0    18.0  8  307.0  130.0  3504.0  12.0  70  1\n",
       "1    15.0  8  350.0  165.0  3693.0  11.5  70  1\n",
       "2    18.0  8  318.0  150.0  3436.0  11.0  70  1\n",
       "3    16.0  8  304.0  150.0  3433.0  12.0  70  1\n",
       "4    17.0  8  302.0  140.0  3449.0  10.5  70  1\n",
       "..    ... ..    ...    ...     ...   ...  .. ..\n",
       "387  27.0  4  140.0   86.0  2790.0  15.6  82  1\n",
       "388  44.0  4   97.0   52.0  2130.0  24.6  82  2\n",
       "389  32.0  4  135.0   84.0  2295.0  11.6  82  1\n",
       "390  28.0  4  120.0   79.0  2625.0  18.6  82  1\n",
       "391  31.0  4  119.0   82.0  2720.0  19.4  82  1\n",
       "\n",
       "[392 rows x 8 columns]"
      ]
     },
     "execution_count": 27,
     "metadata": {},
     "output_type": "execute_result"
    }
   ],
   "source": [
    "auto"
   ]
  },
  {
   "cell_type": "markdown",
   "metadata": {},
   "source": [
    "Warości w zbiorze są duże co powoduje, że przy funkcji aktywacji wartości w eksponencie są za duże do przeliczenia, dlatego zmiejszone zostaną rzędy wartości niektórych kolumn."
   ]
  },
  {
   "cell_type": "code",
   "execution_count": 28,
   "metadata": {},
   "outputs": [],
   "source": [
    "auto[2] = auto[2]/100\n",
    "auto[3] = auto[3]/10\n",
    "auto[4] = auto[4]/1000\n",
    "auto[5] = auto[5]/10\n",
    "auto[6] = auto[6]/10"
   ]
  },
  {
   "cell_type": "code",
   "execution_count": 29,
   "metadata": {},
   "outputs": [
    {
     "data": {
      "text/html": [
       "<div>\n",
       "<style scoped>\n",
       "    .dataframe tbody tr th:only-of-type {\n",
       "        vertical-align: middle;\n",
       "    }\n",
       "\n",
       "    .dataframe tbody tr th {\n",
       "        vertical-align: top;\n",
       "    }\n",
       "\n",
       "    .dataframe thead th {\n",
       "        text-align: right;\n",
       "    }\n",
       "</style>\n",
       "<table border=\"1\" class=\"dataframe\">\n",
       "  <thead>\n",
       "    <tr style=\"text-align: right;\">\n",
       "      <th></th>\n",
       "      <th>0</th>\n",
       "      <th>1</th>\n",
       "      <th>2</th>\n",
       "      <th>3</th>\n",
       "      <th>4</th>\n",
       "      <th>5</th>\n",
       "      <th>6</th>\n",
       "      <th>7</th>\n",
       "    </tr>\n",
       "  </thead>\n",
       "  <tbody>\n",
       "    <tr>\n",
       "      <th>0</th>\n",
       "      <td>18.0</td>\n",
       "      <td>8</td>\n",
       "      <td>3.07</td>\n",
       "      <td>13.0</td>\n",
       "      <td>3.504</td>\n",
       "      <td>1.20</td>\n",
       "      <td>7.0</td>\n",
       "      <td>1</td>\n",
       "    </tr>\n",
       "    <tr>\n",
       "      <th>1</th>\n",
       "      <td>15.0</td>\n",
       "      <td>8</td>\n",
       "      <td>3.50</td>\n",
       "      <td>16.5</td>\n",
       "      <td>3.693</td>\n",
       "      <td>1.15</td>\n",
       "      <td>7.0</td>\n",
       "      <td>1</td>\n",
       "    </tr>\n",
       "    <tr>\n",
       "      <th>2</th>\n",
       "      <td>18.0</td>\n",
       "      <td>8</td>\n",
       "      <td>3.18</td>\n",
       "      <td>15.0</td>\n",
       "      <td>3.436</td>\n",
       "      <td>1.10</td>\n",
       "      <td>7.0</td>\n",
       "      <td>1</td>\n",
       "    </tr>\n",
       "    <tr>\n",
       "      <th>3</th>\n",
       "      <td>16.0</td>\n",
       "      <td>8</td>\n",
       "      <td>3.04</td>\n",
       "      <td>15.0</td>\n",
       "      <td>3.433</td>\n",
       "      <td>1.20</td>\n",
       "      <td>7.0</td>\n",
       "      <td>1</td>\n",
       "    </tr>\n",
       "    <tr>\n",
       "      <th>4</th>\n",
       "      <td>17.0</td>\n",
       "      <td>8</td>\n",
       "      <td>3.02</td>\n",
       "      <td>14.0</td>\n",
       "      <td>3.449</td>\n",
       "      <td>1.05</td>\n",
       "      <td>7.0</td>\n",
       "      <td>1</td>\n",
       "    </tr>\n",
       "    <tr>\n",
       "      <th>...</th>\n",
       "      <td>...</td>\n",
       "      <td>...</td>\n",
       "      <td>...</td>\n",
       "      <td>...</td>\n",
       "      <td>...</td>\n",
       "      <td>...</td>\n",
       "      <td>...</td>\n",
       "      <td>...</td>\n",
       "    </tr>\n",
       "    <tr>\n",
       "      <th>387</th>\n",
       "      <td>27.0</td>\n",
       "      <td>4</td>\n",
       "      <td>1.40</td>\n",
       "      <td>8.6</td>\n",
       "      <td>2.790</td>\n",
       "      <td>1.56</td>\n",
       "      <td>8.2</td>\n",
       "      <td>1</td>\n",
       "    </tr>\n",
       "    <tr>\n",
       "      <th>388</th>\n",
       "      <td>44.0</td>\n",
       "      <td>4</td>\n",
       "      <td>0.97</td>\n",
       "      <td>5.2</td>\n",
       "      <td>2.130</td>\n",
       "      <td>2.46</td>\n",
       "      <td>8.2</td>\n",
       "      <td>2</td>\n",
       "    </tr>\n",
       "    <tr>\n",
       "      <th>389</th>\n",
       "      <td>32.0</td>\n",
       "      <td>4</td>\n",
       "      <td>1.35</td>\n",
       "      <td>8.4</td>\n",
       "      <td>2.295</td>\n",
       "      <td>1.16</td>\n",
       "      <td>8.2</td>\n",
       "      <td>1</td>\n",
       "    </tr>\n",
       "    <tr>\n",
       "      <th>390</th>\n",
       "      <td>28.0</td>\n",
       "      <td>4</td>\n",
       "      <td>1.20</td>\n",
       "      <td>7.9</td>\n",
       "      <td>2.625</td>\n",
       "      <td>1.86</td>\n",
       "      <td>8.2</td>\n",
       "      <td>1</td>\n",
       "    </tr>\n",
       "    <tr>\n",
       "      <th>391</th>\n",
       "      <td>31.0</td>\n",
       "      <td>4</td>\n",
       "      <td>1.19</td>\n",
       "      <td>8.2</td>\n",
       "      <td>2.720</td>\n",
       "      <td>1.94</td>\n",
       "      <td>8.2</td>\n",
       "      <td>1</td>\n",
       "    </tr>\n",
       "  </tbody>\n",
       "</table>\n",
       "<p>392 rows × 8 columns</p>\n",
       "</div>"
      ],
      "text/plain": [
       "        0  1     2     3      4     5    6  7\n",
       "0    18.0  8  3.07  13.0  3.504  1.20  7.0  1\n",
       "1    15.0  8  3.50  16.5  3.693  1.15  7.0  1\n",
       "2    18.0  8  3.18  15.0  3.436  1.10  7.0  1\n",
       "3    16.0  8  3.04  15.0  3.433  1.20  7.0  1\n",
       "4    17.0  8  3.02  14.0  3.449  1.05  7.0  1\n",
       "..    ... ..   ...   ...    ...   ...  ... ..\n",
       "387  27.0  4  1.40   8.6  2.790  1.56  8.2  1\n",
       "388  44.0  4  0.97   5.2  2.130  2.46  8.2  2\n",
       "389  32.0  4  1.35   8.4  2.295  1.16  8.2  1\n",
       "390  28.0  4  1.20   7.9  2.625  1.86  8.2  1\n",
       "391  31.0  4  1.19   8.2  2.720  1.94  8.2  1\n",
       "\n",
       "[392 rows x 8 columns]"
      ]
     },
     "execution_count": 29,
     "metadata": {},
     "output_type": "execute_result"
    }
   ],
   "source": [
    "auto"
   ]
  },
  {
   "cell_type": "code",
   "execution_count": 30,
   "metadata": {},
   "outputs": [],
   "source": [
    "auto_x = np.asarray(auto.iloc[:,1:])\n",
    "auto_y = np.asarray(auto.iloc[:,0])"
   ]
  },
  {
   "cell_type": "code",
   "execution_count": 31,
   "metadata": {},
   "outputs": [],
   "source": [
    "X_train, X_test, y_train, y_test = train_test_split(auto_x, auto_y, test_size=0.3, random_state=42)"
   ]
  },
  {
   "cell_type": "code",
   "execution_count": 32,
   "metadata": {},
   "outputs": [
    {
     "name": "stdout",
     "output_type": "stream",
     "text": [
      "Epoch: 500/500\r"
     ]
    }
   ],
   "source": [
    "q = genetic_MLP([7,10,5,1])\n",
    "q.initialize(50)\n",
    "result = q.evolve(X_train, y_train, epochs=500, args = True)"
   ]
  },
  {
   "cell_type": "code",
   "execution_count": 33,
   "metadata": {},
   "outputs": [
    {
     "data": {
      "text/plain": [
       "20.71958649442373"
      ]
     },
     "execution_count": 33,
     "metadata": {},
     "output_type": "execute_result"
    }
   ],
   "source": [
    "result[2]"
   ]
  },
  {
   "cell_type": "code",
   "execution_count": 34,
   "metadata": {},
   "outputs": [
    {
     "data": {
      "image/png": "[encoded data removed]",
      "text/plain": [
       "<Figure size 432x288 with 1 Axes>"
      ]
     },
     "metadata": {
      "needs_background": "light"
     },
     "output_type": "display_data"
    }
   ],
   "source": [
    "plt.plot(np.linspace(1,500,500), [1/i for i in q.generation_mean])\n",
    "plt.title('MSE dla kolejnych epok')\n",
    "plt.xlabel(\"Epoka\")\n",
    "plt.ylabel(\"MSE\")\n",
    "plt.show()"
   ]
  },
  {
   "cell_type": "code",
   "execution_count": 35,
   "metadata": {},
   "outputs": [],
   "source": [
    "preds_train = q.mlp_forward(X_train, q.best[0], q.best[1])\n",
    "preds_test = q.mlp_forward(X_test, q.best[0], q.best[1])"
   ]
  },
  {
   "cell_type": "code",
   "execution_count": 36,
   "metadata": {},
   "outputs": [
    {
     "name": "stdout",
     "output_type": "stream",
     "text": [
      "Train MSE: 20.71958649442373\n",
      "Test MSE: 20.725926679249103\n"
     ]
    }
   ],
   "source": [
    "print(\"Train MSE: {}\".format(mean_squared_error(y_train,preds_train)))\n",
    "print(\"Test MSE: {}\".format(mean_squared_error(y_test,preds_test)))"
   ]
  },
  {
   "cell_type": "markdown",
   "metadata": {},
   "source": [
    "### Wnioski\n",
    "Algorytm getyczny działa poprawnie, dla wybranych do uczenia liczb epok, nie wystąpiło jeszcze przeuczenie sieci. Średnie dla iteracji MSE dla wszystkich modeli stopniowo spada w zadowalającym tempie. Najwolniej dla zbioru multimodal-large, jest to spowodowane wysokimi wartościami zmiennej objaśnianej oraz małymi wartościami początkowych wag."
   ]
  },
  {
   "cell_type": "code",
   "execution_count": null,
   "metadata": {},
   "outputs": [],
   "source": []
  }
 ],
 "metadata": {
  "kernelspec": {
   "display_name": "Python 3",
   "language": "python",
   "name": "python3"
  },
  "language_info": {
   "codemirror_mode": {
    "name": "ipython",
    "version": 3
   },
   "file_extension": ".py",
   "mimetype": "text/x-python",
   "name": "python",
   "nbconvert_exporter": "python",
   "pygments_lexer": "ipython3",
   "version": "3.6.8"
  }
 },
 "nbformat": 4,
 "nbformat_minor": 2
}
