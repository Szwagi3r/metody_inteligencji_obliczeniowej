{
 "cells": [
  {
   "cell_type": "markdown",
   "metadata": {},
   "source": [
    "## Dawid Przybyliński - Algorytmy genetyczne - Lab 3"
   ]
  },
  {
   "cell_type": "markdown",
   "metadata": {},
   "source": [
    "### Implementacja algorytmu genetycznego do optymalizacji wag sieci MLP"
   ]
  },
  {
   "cell_type": "code",
   "execution_count": 296,
   "metadata": {},
   "outputs": [],
   "source": [
    "import numpy as np\n",
    "import pandas as pd\n",
    "import matplotlib.pyplot as plt\n",
    "from sklearn.metrics import mean_squared_error"
   ]
  },
  {
   "cell_type": "code",
   "execution_count": 538,
   "metadata": {},
   "outputs": [],
   "source": [
    "class genetic_MLP:\n",
    "    \n",
    "    def __init__(self, structure):\n",
    "        self.structure = structure\n",
    "        self.generation_mean = []\n",
    "    \n",
    "    def initialize(self, n, init_method = 'uniform -1 1'):\n",
    "        self.n = n \n",
    "        init_method = init_method.split()\n",
    "        if init_method[0] == 'uniform':\n",
    "            self.generation_w = [np.array([np.random.uniform(float(init_method[1]),float(init_method[2]),size=(self.structure[i],self.structure[i+1])) for i in range(len(self.structure)-1)]) for i in range(self.n)]\n",
    "            self.generation_b = [[np.random.uniform(float(init_method[1]),float(init_method[2]),size=(1,self.structure[i+1])) for i in range(len(self.structure)-1)] for i in range(self.n)]\n",
    "    \n",
    "    def mlp_forward(self, inputs, weights, biases):\n",
    "        activations = inputs\n",
    "        for i in range(len(self.structure)-2):\n",
    "            output = np.dot(activations, weights[i]) + biases[i]\n",
    "            activations = 1 / (1 + np.exp(-output))\n",
    "        result = np.dot(activations, weights[-1]) + biases[-1]\n",
    "        return result\n",
    "        \n",
    "    \n",
    "    def evolve(self, data, true, epochs=100, p_cross=0.7, p_mutate=0.2):\n",
    "        \"\"\"\n",
    "        główna funkcja uczenia sieci algorytmem genetycznym\n",
    "        \"\"\"\n",
    "        self.data = data\n",
    "        self.true = true\n",
    "        iteration_counter = 0\n",
    "        current_best_value = -1\n",
    "        while True:\n",
    "        \n",
    "            # check stop condition \n",
    "            if iteration_counter == epochs:\n",
    "                return 1/self.evaluate(self.best[0], self.best[1])\n",
    "            iteration_counter += 1\n",
    "            \n",
    "            # crossover\n",
    "            parent_choice = np.random.choice(self.n, int(np.floor(p_cross*self.n)), replace=False)\n",
    "            parents_w = []\n",
    "            parents_b = []\n",
    "            for choice in parent_choice:\n",
    "                parents_w.append(self.generation_w[choice])\n",
    "                parents_b.append(self.generation_b[choice])\n",
    "            [crossed_w, crossed_b] = self.crossover(parents_w, parents_b)\n",
    "            \n",
    "            #population = np.vstack((self.generation, crossed))\n",
    "            #pop_size = population.shape[0]\n",
    "            \n",
    "            # mutation\n",
    "            mutation_choice = np.random.choice(self.n, int(np.floor(p_mutate*self.n)), replace=False)\n",
    "            to_mutate_w = []\n",
    "            to_mutate_b = []\n",
    "            for choice in mutation_choice:\n",
    "                to_mutate_w.append(self.generation_w[choice])\n",
    "                to_mutate_b.append(self.generation_b[choice])\n",
    "            [mutated_w, mutated_b] = self.mutate(to_mutate_w, to_mutate_b)\n",
    "            \n",
    "            population_w = self.generation_w + crossed_w + mutated_w\n",
    "            population_b = self.generation_b + crossed_b + mutated_b\n",
    "            \n",
    "            \n",
    "            # evaluation\n",
    "            values = np.asarray([self.evaluate(population_w[i], population_b[i]) for i in range(len(population_w))])\n",
    "            self.generation_mean.append(np.mean(values))\n",
    "            \n",
    "            best_value_index = np.argmax(values)\n",
    "            if values[best_value_index] > current_best_value:\n",
    "                self.best = [population_w[best_value_index], population_b[best_value_index]]\n",
    "                current_best_value = values[best_value_index]\n",
    "            \n",
    "            # selection\n",
    "            prob = values/values.sum()\n",
    "            choices = np.random.choice([i for i in range(len(population_w))], size=self.n, p=prob)\n",
    "            self.generation_w = []\n",
    "            self.generation_b = []\n",
    "            for choice in choices:\n",
    "                self.generation_w.append(population_w[choice])\n",
    "                self.generation_b.append(population_b[choice])\n",
    "            \n",
    "    def evaluate(self, w, b):\n",
    "        pred = self.mlp_forward(self.data, w, b)\n",
    "        error = mean_squared_error(self.true, pred)\n",
    "        return 1/error\n",
    "        \n",
    "    \n",
    "    def crossover(self, parents_w, parents_b):\n",
    "        \"\"\"\n",
    "        krzyżowanie\n",
    "        \"\"\"\n",
    "        children_w = []\n",
    "        children_b = []\n",
    "        \n",
    "        for i in range(0, len(parents_w)-1, 2):\n",
    "            \n",
    "            split = np.random.randint(len(parents_w[i])-1)\n",
    "            \n",
    "            child_1_w = []\n",
    "            child_2_w = []\n",
    "            \n",
    "            child_1_b = []\n",
    "            child_2_b = []\n",
    "            \n",
    "            for j in range(len(parents_b[i])):\n",
    "                if j <= split:\n",
    "                    child_1_w.append(parents_w[i][j])\n",
    "                    child_2_w.append(parents_w[i+1][j])\n",
    "                    \n",
    "                    child_1_b.append(parents_b[i][j])\n",
    "                    child_2_b.append(parents_b[i+1][j])\n",
    "                else:\n",
    "                    child_1_w.append(parents_w[i+1][j])\n",
    "                    child_2_w.append(parents_w[i][j])\n",
    "                    \n",
    "                    child_1_b.append(parents_b[i+1][j])\n",
    "                    child_2_b.append(parents_b[i][j])\n",
    "                    \n",
    "            \n",
    "            children_w.append(child_1_w)\n",
    "            children_w.append(child_2_w)\n",
    "            \n",
    "            children_b.append(child_1_b)\n",
    "            children_b.append(child_2_b)\n",
    "            \n",
    "        return [children_w, children_b]\n",
    "\n",
    "    \n",
    "    def mutate(self, pop_w, pop_b):\n",
    "        mutated_w = []\n",
    "        mutated_b = []\n",
    "        for i in range(len(pop_w)):\n",
    "            w = pop_w[i]\n",
    "            b = pop_b[i]\n",
    "            \n",
    "            mutated_w.append([elem + np.random.normal(0,1,size=(elem.shape[0],elem.shape[1])) for elem in w])\n",
    "            mutated_b.append([elem + np.random.normal(0,1,size=(elem.shape[0],elem.shape[1])) for elem in b])\n",
    "        \n",
    "        return [mutated_w, mutated_b]\n",
    "        \n",
    "        \n",
    "        "
   ]
  },
  {
   "cell_type": "markdown",
   "metadata": {},
   "source": [
    "### Zbiór Iris\n",
    "Na początku przebadamy działanie algorytmu na zbiorze iris. "
   ]
  },
  {
   "cell_type": "code",
   "execution_count": 539,
   "metadata": {},
   "outputs": [],
   "source": [
    "iris = pd.read_csv(\"datasets/mio3/iris.data\", header=None)"
   ]
  },
  {
   "cell_type": "code",
   "execution_count": 540,
   "metadata": {},
   "outputs": [
    {
     "data": {
      "text/html": [
       "<div>\n",
       "<style scoped>\n",
       "    .dataframe tbody tr th:only-of-type {\n",
       "        vertical-align: middle;\n",
       "    }\n",
       "\n",
       "    .dataframe tbody tr th {\n",
       "        vertical-align: top;\n",
       "    }\n",
       "\n",
       "    .dataframe thead th {\n",
       "        text-align: right;\n",
       "    }\n",
       "</style>\n",
       "<table border=\"1\" class=\"dataframe\">\n",
       "  <thead>\n",
       "    <tr style=\"text-align: right;\">\n",
       "      <th></th>\n",
       "      <th>0</th>\n",
       "      <th>1</th>\n",
       "      <th>2</th>\n",
       "      <th>3</th>\n",
       "      <th>4</th>\n",
       "    </tr>\n",
       "  </thead>\n",
       "  <tbody>\n",
       "    <tr>\n",
       "      <th>0</th>\n",
       "      <td>5.1</td>\n",
       "      <td>3.5</td>\n",
       "      <td>1.4</td>\n",
       "      <td>0.2</td>\n",
       "      <td>Iris-setosa</td>\n",
       "    </tr>\n",
       "    <tr>\n",
       "      <th>1</th>\n",
       "      <td>4.9</td>\n",
       "      <td>3.0</td>\n",
       "      <td>1.4</td>\n",
       "      <td>0.2</td>\n",
       "      <td>Iris-setosa</td>\n",
       "    </tr>\n",
       "    <tr>\n",
       "      <th>2</th>\n",
       "      <td>4.7</td>\n",
       "      <td>3.2</td>\n",
       "      <td>1.3</td>\n",
       "      <td>0.2</td>\n",
       "      <td>Iris-setosa</td>\n",
       "    </tr>\n",
       "    <tr>\n",
       "      <th>3</th>\n",
       "      <td>4.6</td>\n",
       "      <td>3.1</td>\n",
       "      <td>1.5</td>\n",
       "      <td>0.2</td>\n",
       "      <td>Iris-setosa</td>\n",
       "    </tr>\n",
       "    <tr>\n",
       "      <th>4</th>\n",
       "      <td>5.0</td>\n",
       "      <td>3.6</td>\n",
       "      <td>1.4</td>\n",
       "      <td>0.2</td>\n",
       "      <td>Iris-setosa</td>\n",
       "    </tr>\n",
       "    <tr>\n",
       "      <th>...</th>\n",
       "      <td>...</td>\n",
       "      <td>...</td>\n",
       "      <td>...</td>\n",
       "      <td>...</td>\n",
       "      <td>...</td>\n",
       "    </tr>\n",
       "    <tr>\n",
       "      <th>145</th>\n",
       "      <td>6.7</td>\n",
       "      <td>3.0</td>\n",
       "      <td>5.2</td>\n",
       "      <td>2.3</td>\n",
       "      <td>Iris-virginica</td>\n",
       "    </tr>\n",
       "    <tr>\n",
       "      <th>146</th>\n",
       "      <td>6.3</td>\n",
       "      <td>2.5</td>\n",
       "      <td>5.0</td>\n",
       "      <td>1.9</td>\n",
       "      <td>Iris-virginica</td>\n",
       "    </tr>\n",
       "    <tr>\n",
       "      <th>147</th>\n",
       "      <td>6.5</td>\n",
       "      <td>3.0</td>\n",
       "      <td>5.2</td>\n",
       "      <td>2.0</td>\n",
       "      <td>Iris-virginica</td>\n",
       "    </tr>\n",
       "    <tr>\n",
       "      <th>148</th>\n",
       "      <td>6.2</td>\n",
       "      <td>3.4</td>\n",
       "      <td>5.4</td>\n",
       "      <td>2.3</td>\n",
       "      <td>Iris-virginica</td>\n",
       "    </tr>\n",
       "    <tr>\n",
       "      <th>149</th>\n",
       "      <td>5.9</td>\n",
       "      <td>3.0</td>\n",
       "      <td>5.1</td>\n",
       "      <td>1.8</td>\n",
       "      <td>Iris-virginica</td>\n",
       "    </tr>\n",
       "  </tbody>\n",
       "</table>\n",
       "<p>150 rows × 5 columns</p>\n",
       "</div>"
      ],
      "text/plain": [
       "       0    1    2    3               4\n",
       "0    5.1  3.5  1.4  0.2     Iris-setosa\n",
       "1    4.9  3.0  1.4  0.2     Iris-setosa\n",
       "2    4.7  3.2  1.3  0.2     Iris-setosa\n",
       "3    4.6  3.1  1.5  0.2     Iris-setosa\n",
       "4    5.0  3.6  1.4  0.2     Iris-setosa\n",
       "..   ...  ...  ...  ...             ...\n",
       "145  6.7  3.0  5.2  2.3  Iris-virginica\n",
       "146  6.3  2.5  5.0  1.9  Iris-virginica\n",
       "147  6.5  3.0  5.2  2.0  Iris-virginica\n",
       "148  6.2  3.4  5.4  2.3  Iris-virginica\n",
       "149  5.9  3.0  5.1  1.8  Iris-virginica\n",
       "\n",
       "[150 rows x 5 columns]"
      ]
     },
     "execution_count": 540,
     "metadata": {},
     "output_type": "execute_result"
    }
   ],
   "source": [
    "iris"
   ]
  },
  {
   "cell_type": "code",
   "execution_count": 541,
   "metadata": {},
   "outputs": [],
   "source": [
    "iris_x = np.asarray(iris.iloc[:,0:4])\n",
    "iris_y = np.asarray(iris.iloc[:,4])\n",
    "iris_y = np.unique(iris_y, return_inverse=True)[1]"
   ]
  },
  {
   "cell_type": "code",
   "execution_count": 542,
   "metadata": {},
   "outputs": [
    {
     "data": {
      "text/plain": [
       "array([0, 0, 0, 0, 0, 0, 0, 0, 0, 0, 0, 0, 0, 0, 0, 0, 0, 0, 0, 0, 0, 0,\n",
       "       0, 0, 0, 0, 0, 0, 0, 0, 0, 0, 0, 0, 0, 0, 0, 0, 0, 0, 0, 0, 0, 0,\n",
       "       0, 0, 0, 0, 0, 0, 1, 1, 1, 1, 1, 1, 1, 1, 1, 1, 1, 1, 1, 1, 1, 1,\n",
       "       1, 1, 1, 1, 1, 1, 1, 1, 1, 1, 1, 1, 1, 1, 1, 1, 1, 1, 1, 1, 1, 1,\n",
       "       1, 1, 1, 1, 1, 1, 1, 1, 1, 1, 1, 1, 2, 2, 2, 2, 2, 2, 2, 2, 2, 2,\n",
       "       2, 2, 2, 2, 2, 2, 2, 2, 2, 2, 2, 2, 2, 2, 2, 2, 2, 2, 2, 2, 2, 2,\n",
       "       2, 2, 2, 2, 2, 2, 2, 2, 2, 2, 2, 2, 2, 2, 2, 2, 2, 2])"
      ]
     },
     "execution_count": 542,
     "metadata": {},
     "output_type": "execute_result"
    }
   ],
   "source": [
    "iris_y"
   ]
  },
  {
   "cell_type": "code",
   "execution_count": 543,
   "metadata": {},
   "outputs": [
    {
     "data": {
      "image/png": "[encoded data removed]",
      "text/plain": [
       "<Figure size 432x288 with 1 Axes>"
      ]
     },
     "metadata": {
      "needs_background": "light"
     },
     "output_type": "display_data"
    }
   ],
   "source": [
    "plt.scatter(iris.iloc[:,0], iris.iloc[:,1], c=iris_y)\n",
    "plt.title(\"zbiór iris\")\n",
    "plt.show()"
   ]
  },
  {
   "cell_type": "code",
   "execution_count": 544,
   "metadata": {},
   "outputs": [
    {
     "data": {
      "text/plain": [
       "0.0765709632521182"
      ]
     },
     "execution_count": 544,
     "metadata": {},
     "output_type": "execute_result"
    }
   ],
   "source": [
    "q = genetic_MLP([4,3,2,1])\n",
    "q.initialize(50)\n",
    "q.evolve(iris_x,iris_y, epochs=500)"
   ]
  },
  {
   "cell_type": "code",
   "execution_count": 545,
   "metadata": {},
   "outputs": [
    {
     "data": {
      "text/plain": [
       "Text(0.5, 1.0, 'MSE dla kolejnych epok')"
      ]
     },
     "execution_count": 545,
     "metadata": {},
     "output_type": "execute_result"
    },
    {
     "data": {
      "image/png": "[encoded data removed]",
      "text/plain": [
       "<Figure size 432x288 with 1 Axes>"
      ]
     },
     "metadata": {
      "needs_background": "light"
     },
     "output_type": "display_data"
    }
   ],
   "source": [
    "plt.plot(np.linspace(1,500,500), [1/i for i in q.generation_mean])\n",
    "plt.title('MSE dla kolejnych epok')"
   ]
  },
  {
   "cell_type": "markdown",
   "metadata": {},
   "source": [
    "Błąd jest bardzo mały, zatem zaokrąglając otrzymane liczby otrzymamy dobry klasyfikator (o ile się nie przeucza)."
   ]
  },
  {
   "cell_type": "code",
   "execution_count": null,
   "metadata": {},
   "outputs": [],
   "source": []
  },
  {
   "cell_type": "code",
   "execution_count": null,
   "metadata": {},
   "outputs": [],
   "source": []
  },
  {
   "cell_type": "code",
   "execution_count": null,
   "metadata": {},
   "outputs": [],
   "source": []
  }
 ],
 "metadata": {
  "kernelspec": {
   "display_name": "Python 3",
   "language": "python",
   "name": "python3"
  },
  "language_info": {
   "codemirror_mode": {
    "name": "ipython",
    "version": 3
   },
   "file_extension": ".py",
   "mimetype": "text/x-python",
   "name": "python",
   "nbconvert_exporter": "python",
   "pygments_lexer": "ipython3",
   "version": "3.6.8"
  }
 },
 "nbformat": 4,
 "nbformat_minor": 2
}
