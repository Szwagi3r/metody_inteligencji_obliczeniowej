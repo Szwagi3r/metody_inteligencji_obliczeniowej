{
 "cells": [
  {
   "cell_type": "markdown",
   "metadata": {},
   "source": [
    "# Lab 3.1 - Algorytmy genetyczne\n",
    "## Dawid Przybyliński 298836"
   ]
  },
  {
   "cell_type": "code",
   "execution_count": 1,
   "metadata": {},
   "outputs": [],
   "source": [
    "import numpy as np\n",
    "import random\n",
    "import matplotlib.pyplot as plt"
   ]
  },
  {
   "cell_type": "code",
   "execution_count": 2,
   "metadata": {},
   "outputs": [],
   "source": [
    "class evolution:\n",
    "    \n",
    "    def __init__(self, population_size, chr_size, target_function, init_method = 'binary'):\n",
    "        self.n = population_size\n",
    "        self.m = chr_size\n",
    "        self.target = target_function\n",
    "        self.best = None\n",
    "        self.generation_mean = []\n",
    "        \n",
    "        # initialize random generation\n",
    "        init_args = init_method.split()\n",
    "        if init_args[0] == 'binary': # random bits\n",
    "            self.generation = np.random.choice([0, 1], size=(self.n, self.m), p=[0.5,0.5])\n",
    "        elif init_args[0] == 'uniform': # [uniform, start, stop]\n",
    "            self.generation = np.random.uniform(float(init_args[1]), float(init_args[2]), (self.n, self.m))\n",
    "        else: # random uniforms(-8,8)\n",
    "            self.generation = np.random.uniform(-8, 8, (self.n, self.m))\n",
    "            \n",
    "    \n",
    "    def evolve(self, epochs = 100, p_cross = 0.7, p_mutate = 0.2):\n",
    "        \"\"\"\n",
    "        główna funkcja przeprowadzająca ewolucję i szukająca minimum\n",
    "        \"\"\"\n",
    "        iteration_counter = 0\n",
    "        current_best_value = -1\n",
    "        while True:\n",
    "            \n",
    "            # check stop condition \n",
    "            if iteration_counter == epochs:\n",
    "                return self.target(self.best, arguments = True)\n",
    "            iteration_counter += 1\n",
    "            \n",
    "            # crossover\n",
    "            parents = self.generation[np.random.choice(self.n, int(np.floor(p_cross*self.n)), replace=False), :]\n",
    "            crossed = self.crossover(parents)\n",
    "            population = np.vstack((self.generation, crossed))\n",
    "            pop_size = population.shape[0]\n",
    "            \n",
    "            # mutation\n",
    "            mutated = population[np.random.choice(pop_size, int(np.floor(p_mutate*pop_size)), replace=False), :]\n",
    "            mutated = self.mutate(mutated)\n",
    "            population = np.vstack((population, mutated))\n",
    "            \n",
    "            # evaluation\n",
    "            values = np.asarray([self.target(osobnik) for osobnik in population])\n",
    "            self.generation_mean.append(np.mean(values))\n",
    "            best_value_index = np.argmax(values)\n",
    "            if values[best_value_index] > current_best_value:\n",
    "                self.best = population[best_value_index]\n",
    "                current_best_value = values[best_value_index]\n",
    "            \n",
    "            # selection\n",
    "            prob = values/values.sum()\n",
    "            choices = np.random.choice([i for i in range(population.shape[0])], size=self.n, p=prob)\n",
    "            self.generation = np.asarray([population[choice] for choice in choices])\n",
    "            \n",
    "            \n",
    "            \n",
    "    def crossover(self,parents):\n",
    "        \"\"\"\n",
    "        krzyżowanie, narazie tylko jednopunktowe\n",
    "        dla podanych rodziców krzyżujemy 1. z 2., 3. z 4., i tak dalej\n",
    "        \"\"\"\n",
    "        children = []\n",
    "        for i in range(0, parents.shape[0]-1, 2):\n",
    "            [child_1, child_2] = self.cross(parents[i], parents[i+1])\n",
    "            children.append(child_1)\n",
    "            children.append(child_2)\n",
    "        return np.asarray(children)\n",
    "            \n",
    "            \n",
    "    def cross(self,x,y):\n",
    "        \"\"\"\n",
    "        krzyżowanie jednopunktowe, punkt podziału jest losowy z przedziału [1,len-1]\n",
    "        \"\"\"\n",
    "        split = random.randint(1,len(x)-1)\n",
    "        child_1 = np.concatenate((x[0:split], y[split:]))\n",
    "        child_2 = np.concatenate((y[0:split], x[split:]))\n",
    "        return [child_1, child_2]\n",
    "    \n",
    "    def mutate(self, to_mutate):\n",
    "        \"\"\"\n",
    "        mutacja gaussowska, przesunięcie osobnika o N(0,1)^self.m\n",
    "        \"\"\"\n",
    "        for i, osobnik in enumerate(to_mutate):\n",
    "            for j, gen in enumerate(osobnik):\n",
    "                to_mutate[i][j] += np.random.normal(0,1)\n",
    "        return to_mutate\n"
   ]
  },
  {
   "cell_type": "markdown",
   "metadata": {},
   "source": [
    "# Testy\n",
    "## funkcja kwadratowa w $R^3$: $f(x,y,z) = x^2+y^2+2z^2$"
   ]
  },
  {
   "cell_type": "code",
   "execution_count": 3,
   "metadata": {},
   "outputs": [],
   "source": [
    "def square_fun(x,y,z):\n",
    "    \"\"\"funkcja kwadratowa - pierwsza funckja testowa\"\"\"\n",
    "    return (x**2) + (y**2) + 2*(z**2)"
   ]
  },
  {
   "cell_type": "code",
   "execution_count": 4,
   "metadata": {},
   "outputs": [],
   "source": [
    "def eval_1(osobnik, arguments = False):\n",
    "    \"\"\"przekształcenie funkcji testowej - chcemy szukać minimum funkcji o watościach dodatnich\"\"\"\n",
    "    target = square_fun(osobnik[0],osobnik[1],osobnik[2])\n",
    "    if arguments:\n",
    "        return (osobnik,1/target)\n",
    "    return 1/target   "
   ]
  },
  {
   "cell_type": "markdown",
   "metadata": {},
   "source": [
    "Użyjemy algorytmu 10 razy, wynik jest w formacie $([x,y,z],1/f(x,y,z))$"
   ]
  },
  {
   "cell_type": "code",
   "execution_count": 5,
   "metadata": {},
   "outputs": [
    {
     "name": "stdout",
     "output_type": "stream",
     "text": [
      "(array([ 0.19243234, -0.00804736,  0.10319587]), 17.12512245383946)\n",
      "(array([-0.07825191, -0.22730545,  0.06981769]), 14.806008821299788)\n",
      "(array([ 0.05032307,  0.28114854, -0.09076049]), 10.198686261950195)\n",
      "(array([-0.08953996, -0.03454124, -0.10636805]), 31.408192098907136)\n",
      "(array([-0.09178591, -0.19316162,  0.04516004]), 20.074305720524862)\n",
      "(array([-0.21492139, -0.0099627 , -0.02751919]), 20.91828306983451)\n",
      "(array([ 0.05449847,  0.08391846, -0.02196765]), 91.09503045789647)\n",
      "(array([ 0.05002984, -0.02986591,  0.02848059]), 199.312537530426)\n",
      "(array([-0.13471216,  0.1025894 , -0.10317177]), 20.015701620814152)\n",
      "(array([ 0.09321254,  0.00026068, -0.08945955]), 40.49457503653326)\n"
     ]
    }
   ],
   "source": [
    "for i in range(10):\n",
    "    evo = evolution(10, 3, eval_1, init_method='uniform -20 20')\n",
    "    print(evo.evolve())"
   ]
  },
  {
   "cell_type": "markdown",
   "metadata": {},
   "source": [
    "Algorytm działa poprawnie (już dla 10 osobników i 100 iteracji) - rozwiązanie jest blisko minimum globalnego w (0,0,0). Sprawdźmy co się dzieje ze średnim wynikiem w kolejnych epokach dla odległego punktu początkowego (i 100 osobników). Średni wy"
   ]
  },
  {
   "cell_type": "code",
   "execution_count": 6,
   "metadata": {},
   "outputs": [
    {
     "name": "stdout",
     "output_type": "stream",
     "text": [
      "(array([-0.00059811, -0.00667217,  0.02184906]), 1000.3619522362252)\n"
     ]
    },
    {
     "data": {
      "image/png": "[encoded data removed]",
      "text/plain": [
       "<Figure size 432x288 with 1 Axes>"
      ]
     },
     "metadata": {
      "needs_background": "light"
     },
     "output_type": "display_data"
    }
   ],
   "source": [
    "evo = evolution(100, 3, eval_1, init_method='uniform 50 70')\n",
    "print(evo.evolve(1000))\n",
    "plt.plot(np.linspace(1,1000,1000), [1/y for y in evo.generation_mean])\n",
    "plt.title(\"Średni wynik w kolejnych iteracjach\")\n",
    "plt.show()"
   ]
  },
  {
   "cell_type": "markdown",
   "metadata": {},
   "source": [
    "## funkcja Rastrigina w $R^5$: $f(x) = 5A + \\sum_{i=1}^5(x_i^2-Acos(\\pi x_i))$, $A=10$"
   ]
  },
  {
   "cell_type": "code",
   "execution_count": 7,
   "metadata": {},
   "outputs": [],
   "source": [
    "def rastrigin(x, A=10):\n",
    "    \"\"\"funckja rastrigina\"\"\"\n",
    "    return (A*len(x) + np.sum(x**2 - A*np.cos(2*np.pi*x)))"
   ]
  },
  {
   "cell_type": "code",
   "execution_count": 8,
   "metadata": {},
   "outputs": [],
   "source": [
    "def eval_2(osobnik, arguments = False):\n",
    "    target = rastrigin(osobnik)\n",
    "    if arguments:\n",
    "        return (osobnik, 1/target)\n",
    "    return 1/target   "
   ]
  },
  {
   "cell_type": "markdown",
   "metadata": {},
   "source": [
    "Tutaj ponownie przetestujemy algorytm 10 razy, wynik w formacie $(x, 1/f(x))$"
   ]
  },
  {
   "cell_type": "code",
   "execution_count": 9,
   "metadata": {},
   "outputs": [
    {
     "name": "stdout",
     "output_type": "stream",
     "text": [
      "(array([ 0.00660023, -1.00768976,  0.00411085]), 0.9623689925803305)\n",
      "(array([-0.03957347, -0.0195317 , -0.0059446 ]), 2.5529478567663775)\n",
      "(array([0.02390459, 0.02623224, 0.02044605]), 3.0103232439048013)\n",
      "(array([-0.00630777, -0.0190067 , -0.02177628]), 5.766652447269753)\n",
      "(array([0.01882374, 0.0167071 , 0.00513111]), 7.647344666518363)\n",
      "(array([-0.00189608, -0.01301991, -0.00961372]), 18.99111820912669)\n",
      "(array([ 0.04450751, -0.02736297,  0.01730619]), 1.6722499026461375)\n",
      "(array([-0.01775694, -0.01291917, -0.0047648 ]), 9.991145829383854)\n",
      "(array([0.00101319, 0.0210855 , 0.02522399]), 4.667564959768987)\n",
      "(array([-0.00135303, -0.01886182, -0.05312525]), 1.5983895684701193)\n"
     ]
    }
   ],
   "source": [
    "for i in range(10):\n",
    "    evo = evolution(100, 3, eval_2, init_method='dupa')\n",
    "    print(evo.evolve())"
   ]
  },
  {
   "cell_type": "markdown",
   "metadata": {},
   "source": [
    "Ponownie rozwiązania są bliko minimum globalnego w wektorze zerowym. Poniżej wykres średniej dla odległego punktu początkowego:"
   ]
  },
  {
   "cell_type": "code",
   "execution_count": 10,
   "metadata": {},
   "outputs": [
    {
     "name": "stdout",
     "output_type": "stream",
     "text": [
      "(array([ 0.01981733, -0.01289038, -0.01474686]), 6.49879801350009)\n"
     ]
    },
    {
     "data": {
      "image/png": "[encoded data removed]",
      "text/plain": [
       "<Figure size 432x288 with 1 Axes>"
      ]
     },
     "metadata": {
      "needs_background": "light"
     },
     "output_type": "display_data"
    }
   ],
   "source": [
    "evo = evolution(100, 3, eval_2, init_method='uniform 50 70')\n",
    "print(evo.evolve(1000))\n",
    "plt.plot(np.linspace(1,1000,1000), [1/y for y in evo.generation_mean])\n",
    "plt.title(\"Średni wynik w kolejnych iteracjach\")\n",
    "plt.show()"
   ]
  },
  {
   "cell_type": "markdown",
   "metadata": {},
   "source": [
    "Szybkość zbieżności jest podobna co dla funkcji kwadratowej (około 400 epok). Tak więc algorytm dosyć szybko zbiega, nawet dla małych genotypów (spodziewam się że zakodowanie punktów większą liczbą genów usprawniłoby proces). Niemniej eksperymenty można zdecydowanie uznać za zakończone sukcesem."
   ]
  }
 ],
 "metadata": {
  "kernelspec": {
   "display_name": "Python 3",
   "language": "python",
   "name": "python3"
  },
  "language_info": {
   "codemirror_mode": {
    "name": "ipython",
    "version": 3
   },
   "file_extension": ".py",
   "mimetype": "text/x-python",
   "name": "python",
   "nbconvert_exporter": "python",
   "pygments_lexer": "ipython3",
   "version": "3.6.8"
  }
 },
 "nbformat": 4,
 "nbformat_minor": 2
}
