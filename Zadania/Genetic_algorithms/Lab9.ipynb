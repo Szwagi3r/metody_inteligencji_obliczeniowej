{
 "cells": [
  {
   "cell_type": "markdown",
   "metadata": {},
   "source": [
    "# Lab 3.1 - Algorytmy genetyczne\n",
    "## Dawid Przybyliński 298836"
   ]
  },
  {
   "cell_type": "code",
   "execution_count": 1,
   "metadata": {},
   "outputs": [],
   "source": [
    "import numpy as np\n",
    "import random"
   ]
  },
  {
   "cell_type": "code",
   "execution_count": 2,
   "metadata": {},
   "outputs": [],
   "source": [
    "class evolution:\n",
    "    \n",
    "    def __init__(self, population_size, chr_size, target_convert_function, init_method = 'binary'):\n",
    "        self.n = population_size\n",
    "        self.m = chr_size\n",
    "        self.target = target_convert_function\n",
    "        self.best = None\n",
    "        \n",
    "        # initialize random generation\n",
    "        if init_method == 'binary': # random bits\n",
    "            self.generation = np.random.choice([0, 1], size=(self.n, self.m), p=[0.5,0.5])\n",
    "        else: # random uniforms \n",
    "            self.generation = np.random.uniform(-8, 8, (self.n, self.m))\n",
    "            \n",
    "    \n",
    "    def evolve(self):\n",
    "        \"\"\"\n",
    "        główna funkcja przeprowadzająca ewolucję i szukająca minimum\n",
    "        \"\"\"\n",
    "        iteration_counter = 0\n",
    "        current_best_value = -1\n",
    "        while True:\n",
    "            \n",
    "            # check stop condition \n",
    "            if iteration_counter == 100:\n",
    "                return self.target(self.best, arguments = True)\n",
    "            iteration_counter += 1\n",
    "            \n",
    "            # crossover\n",
    "            parents = self.generation[np.random.choice(self.n, int(np.floor(0.7*self.n)), replace=False), :]\n",
    "            crossed = self.crossover(parents)\n",
    "            population = np.vstack((self.generation, crossed))\n",
    "            population_size = population.shape[0]\n",
    "            \n",
    "            # mutation\n",
    "            mutated = population[np.random.choice(population_size, int(np.floor(0.2*population_size)), replace=False), :]\n",
    "            mutated = self.mutate(mutated)\n",
    "            population = np.vstack((population, mutated))\n",
    "            \n",
    "            # evaluation\n",
    "            values = np.asarray([self.target(osobnik) for osobnik in population])\n",
    "            best_value_index = np.argmax(values)\n",
    "            if values[best_value_index] > current_best_value:\n",
    "                self.best = population[best_value_index]\n",
    "                current_best_value = values[best_value_index]\n",
    "            \n",
    "            # selection\n",
    "            prob = values/values.sum()\n",
    "            choices = np.random.choice([i for i in range(population.shape[0])], size=self.n, p=prob)\n",
    "            self.generation = np.asarray([population[choice] for choice in choices])\n",
    "            \n",
    "            \n",
    "            \n",
    "    def crossover(self,parents):\n",
    "        \"\"\"krzyżowanie\"\"\"\n",
    "        children = []\n",
    "        for i in range(0, parents.shape[0]-1, 2):\n",
    "            [child_1, child_2] = self.cross(parents[i], parents[i+1])\n",
    "            children.append(child_1)\n",
    "            children.append(child_2)\n",
    "        return np.asarray(children)\n",
    "            \n",
    "            \n",
    "    def cross(self,x,y):\n",
    "        \"\"\"\n",
    "        krzyżowanie jednopunktowe, punkt podziału jest losowy z przedziału [1,len-1]\n",
    "        \"\"\"\n",
    "        split = random.randint(1,len(x)-1)\n",
    "        child_1 = np.concatenate((x[0:split], y[split:]))\n",
    "        child_2 = np.concatenate((y[0:split], x[split:]))\n",
    "        return [child_1, child_2]\n",
    "    \n",
    "    def mutate(self, to_mutate):\n",
    "        \"\"\"\n",
    "        mutacja gaussowska\n",
    "        \"\"\"\n",
    "        for i, osobnik in enumerate(to_mutate):\n",
    "            for j, gen in enumerate(osobnik):\n",
    "                to_mutate[i][j] += np.random.normal(0,1)\n",
    "        return to_mutate\n"
   ]
  },
  {
   "cell_type": "code",
   "execution_count": 3,
   "metadata": {},
   "outputs": [],
   "source": [
    "def target_1(x,y,z):\n",
    "    return (x**2) + (y**2) + 2*(z**2)"
   ]
  },
  {
   "cell_type": "code",
   "execution_count": 4,
   "metadata": {},
   "outputs": [],
   "source": [
    "def eval_1(osobnik, arguments = False):\n",
    "    target = target_1(osobnik[0],osobnik[1],osobnik[2])\n",
    "    if arguments:\n",
    "        return (osobnik[0],osobnik[1],osobnik[2],1/target)\n",
    "    return 1/target   "
   ]
  },
  {
   "cell_type": "code",
   "execution_count": 5,
   "metadata": {},
   "outputs": [
    {
     "name": "stdout",
     "output_type": "stream",
     "text": [
      "(0.007245258697386271, 0.048209666541406626, -0.053714040412544684, 122.74363450637637)\n",
      "(-0.030719052990118872, 0.05676751102576917, -0.05201638051558449, 104.41009217790722)\n",
      "(0.019744972770677993, 0.03351840269971085, -0.035046409549329915, 251.89875526756558)\n",
      "(-0.014841339812199678, 0.02534550203713315, 0.0761646794282651, 80.22606662149683)\n",
      "(0.018460876140750926, -0.00453588409163877, -0.03286574091072425, 396.5591288351484)\n",
      "(-0.015722347155317618, 0.005906966441512118, -0.016901421856784893, 1171.7826660313074)\n",
      "(0.001818851399146837, -0.0150200884374221, 0.009439929173144748, 2456.1829086181197)\n",
      "(-0.08284147016192611, 0.014478905572913536, -0.0028658448639508408, 141.06811662431062)\n",
      "(0.02413029281544139, -0.10327177974710458, -0.04883491494138808, 62.43354979496416)\n",
      "(0.030825791737830843, -0.0640719122321091, 0.0366674726734325, 129.12478675644587)\n"
     ]
    }
   ],
   "source": [
    "for i in range(10):\n",
    "    evo = evolution(100, 3, eval_1, init_method='dupa')\n",
    "    print(evo.evolve())"
   ]
  },
  {
   "cell_type": "code",
   "execution_count": null,
   "metadata": {},
   "outputs": [],
   "source": []
  },
  {
   "cell_type": "code",
   "execution_count": null,
   "metadata": {},
   "outputs": [],
   "source": []
  },
  {
   "cell_type": "code",
   "execution_count": null,
   "metadata": {},
   "outputs": [],
   "source": []
  },
  {
   "cell_type": "code",
   "execution_count": null,
   "metadata": {},
   "outputs": [],
   "source": []
  },
  {
   "cell_type": "code",
   "execution_count": 6,
   "metadata": {},
   "outputs": [],
   "source": [
    "def rastrigin_5(x, A=10):\n",
    "    \"\"\"funckja rastrigina\"\"\"\n",
    "    return (A*len(x) + np.sum(x**2 - A*np.cos(2*np.pi*x)))"
   ]
  },
  {
   "cell_type": "code",
   "execution_count": 7,
   "metadata": {},
   "outputs": [
    {
     "data": {
      "text/plain": [
       "500.0"
      ]
     },
     "execution_count": 7,
     "metadata": {},
     "output_type": "execute_result"
    }
   ],
   "source": [
    "rastrigin_5(np.array([-10,-10,-10,-10,-10]))"
   ]
  },
  {
   "cell_type": "code",
   "execution_count": 8,
   "metadata": {},
   "outputs": [],
   "source": [
    "def eval_2(osobnik, arguments = False):\n",
    "    target = rastrigin_5(osobnik)\n",
    "    if arguments:\n",
    "        return (osobnik, 600-target)\n",
    "    return 600 - target   "
   ]
  },
  {
   "cell_type": "code",
   "execution_count": 9,
   "metadata": {},
   "outputs": [
    {
     "data": {
      "text/plain": [
       "(array([ 0.04891042, -1.03073213, -0.86376829,  0.07385537,  1.04936999]),\n",
       " 591.4481952659746)"
      ]
     },
     "execution_count": 9,
     "metadata": {},
     "output_type": "execute_result"
    }
   ],
   "source": [
    "evo = evolution(300, 5, eval_2, init_method='dupa')\n",
    "evo.evolve()"
   ]
  },
  {
   "cell_type": "code",
   "execution_count": null,
   "metadata": {},
   "outputs": [],
   "source": []
  }
 ],
 "metadata": {
  "kernelspec": {
   "display_name": "Python 3",
   "language": "python",
   "name": "python3"
  },
  "language_info": {
   "codemirror_mode": {
    "name": "ipython",
    "version": 3
   },
   "file_extension": ".py",
   "mimetype": "text/x-python",
   "name": "python",
   "nbconvert_exporter": "python",
   "pygments_lexer": "ipython3",
   "version": "3.6.8"
  }
 },
 "nbformat": 4,
 "nbformat_minor": 2
}
