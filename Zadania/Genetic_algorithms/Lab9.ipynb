{
 "cells": [
  {
   "cell_type": "markdown",
   "metadata": {},
   "source": [
    "# Lab 3.1 - Algorytmy genetyczne\n",
    "## Dawid Przybyliński 298836"
   ]
  },
  {
   "cell_type": "code",
   "execution_count": 1,
   "metadata": {},
   "outputs": [],
   "source": [
    "import numpy as np\n",
    "import random"
   ]
  },
  {
   "cell_type": "code",
   "execution_count": 2,
   "metadata": {},
   "outputs": [],
   "source": [
    "class evolution:\n",
    "    \n",
    "    def __init__(self, population_size, chr_size, target_convert_function, init_method = 'binary'):\n",
    "        self.n = population_size\n",
    "        self.m = chr_size\n",
    "        self.target = target_convert_function\n",
    "        self.best = None\n",
    "        \n",
    "        # initialize random generation\n",
    "        if init_method == 'binary': # random bits\n",
    "            self.generation = np.random.choice([0, 1], size=(self.n, self.m), p=[0.5,0.5])\n",
    "        else: # random uniforms \n",
    "            self.generation = np.random.uniform(-8, 8, (self.n, self.m))\n",
    "            \n",
    "    \n",
    "    def evolve(self, p_cross = 0.7, p_mutate = 0.2):\n",
    "        \"\"\"\n",
    "        główna funkcja przeprowadzająca ewolucję i szukająca minimum\n",
    "        \"\"\"\n",
    "        iteration_counter = 0\n",
    "        current_best_value = -1\n",
    "        while True:\n",
    "            \n",
    "            # check stop condition \n",
    "            if iteration_counter == 100:\n",
    "                return self.target(self.best, arguments = True)\n",
    "            iteration_counter += 1\n",
    "            \n",
    "            # crossover\n",
    "            parents = self.generation[np.random.choice(self.n, int(np.floor(p_cross*self.n)), replace=False), :]\n",
    "            crossed = self.crossover(parents)\n",
    "            population = np.vstack((self.generation, crossed))\n",
    "            pop_size = population.shape[0]\n",
    "            \n",
    "            # mutation\n",
    "            mutated = population[np.random.choice(pop_size, int(np.floor(p_mutate*pop_size)), replace=False), :]\n",
    "            mutated = self.mutate(mutated)\n",
    "            population = np.vstack((population, mutated))\n",
    "            \n",
    "            # evaluation\n",
    "            values = np.asarray([self.target(osobnik) for osobnik in population])\n",
    "            best_value_index = np.argmax(values)\n",
    "            if values[best_value_index] > current_best_value:\n",
    "                self.best = population[best_value_index]\n",
    "                current_best_value = values[best_value_index]\n",
    "            \n",
    "            # selection\n",
    "            prob = values/values.sum()\n",
    "            choices = np.random.choice([i for i in range(population.shape[0])], size=self.n, p=prob)\n",
    "            self.generation = np.asarray([population[choice] for choice in choices])\n",
    "            \n",
    "            \n",
    "            \n",
    "    def crossover(self,parents):\n",
    "        \"\"\"\n",
    "        krzyżowanie, narazie tylko jednopunktowe\n",
    "        dla podanych rodziców krzyżujemy 1. z 2., 3. z 4., i tak dalej\n",
    "        \"\"\"\n",
    "        children = []\n",
    "        for i in range(0, parents.shape[0]-1, 2):\n",
    "            [child_1, child_2] = self.cross(parents[i], parents[i+1])\n",
    "            children.append(child_1)\n",
    "            children.append(child_2)\n",
    "        return np.asarray(children)\n",
    "            \n",
    "            \n",
    "    def cross(self,x,y):\n",
    "        \"\"\"\n",
    "        krzyżowanie jednopunktowe, punkt podziału jest losowy z przedziału [1,len-1]\n",
    "        \"\"\"\n",
    "        split = random.randint(1,len(x)-1)\n",
    "        child_1 = np.concatenate((x[0:split], y[split:]))\n",
    "        child_2 = np.concatenate((y[0:split], x[split:]))\n",
    "        return [child_1, child_2]\n",
    "    \n",
    "    def mutate(self, to_mutate):\n",
    "        \"\"\"\n",
    "        mutacja gaussowska, przesunięcie osobnika o N(0,1)^self.m\n",
    "        \"\"\"\n",
    "        for i, osobnik in enumerate(to_mutate):\n",
    "            for j, gen in enumerate(osobnik):\n",
    "                to_mutate[i][j] += np.random.normal(0,1)\n",
    "        return to_mutate\n"
   ]
  },
  {
   "cell_type": "markdown",
   "metadata": {},
   "source": [
    "# Testy\n",
    "## funkcja kwadratowa w $R^3$: $f(x,y,z) = x^2+y^2+2z^2$"
   ]
  },
  {
   "cell_type": "code",
   "execution_count": 3,
   "metadata": {},
   "outputs": [],
   "source": [
    "def square_fun(x,y,z):\n",
    "    \"\"\"funkcja kwadratowa - pierwsza funckja testowa\"\"\"\n",
    "    return (x**2) + (y**2) + 2*(z**2)"
   ]
  },
  {
   "cell_type": "code",
   "execution_count": 4,
   "metadata": {},
   "outputs": [],
   "source": [
    "def eval_1(osobnik, arguments = False):\n",
    "    \"\"\"przekształcenie funkcji testowej - chcemy szukać minimum funkcji o watościach dodatnich\"\"\"\n",
    "    target = square_fun(osobnik[0],osobnik[1],osobnik[2])\n",
    "    if arguments:\n",
    "        return (osobnik,1/target)\n",
    "    return 1/target   "
   ]
  },
  {
   "cell_type": "markdown",
   "metadata": {},
   "source": [
    "#### Użyjemy algorytmu 10 razy, wynik jest w formacie $([x,y,z],1/f(x,y,z))$"
   ]
  },
  {
   "cell_type": "code",
   "execution_count": 5,
   "metadata": {},
   "outputs": [
    {
     "name": "stdout",
     "output_type": "stream",
     "text": [
      "(array([-0.02786192, -0.01091604, -0.05909552]), 126.90343142926244)\n",
      "(array([-0.03461   , -0.00883003, -0.0224529 ]), 437.81179660746557)\n",
      "(array([ 0.02644371, -0.03369398, -0.02286372]), 347.2157985536121)\n",
      "(array([ 0.0703555 , -0.00055736,  0.04361346]), 114.2273047906162)\n",
      "(array([-0.00861182,  0.04241234,  0.01475771]), 433.17226936378114)\n",
      "(array([0.03533578, 0.0469613 , 0.02738524]), 201.86183800051032)\n",
      "(array([0.03271546, 0.01320471, 0.02793301]), 356.48433571689634)\n",
      "(array([ 0.00264797, -0.05572297, -0.04427954]), 142.1784162798045)\n",
      "(array([-0.0011496 , -0.07625576,  0.02185976]), 147.66772148770133)\n",
      "(array([ 0.00626394, -0.00059946,  0.01351778]), 2468.787637836067)\n"
     ]
    }
   ],
   "source": [
    "for i in range(10):\n",
    "    evo = evolution(100, 3, eval_1, init_method='dupa')\n",
    "    print(evo.evolve())"
   ]
  },
  {
   "cell_type": "markdown",
   "metadata": {},
   "source": [
    "Algorytm działa poprawnie, dla populacji o liczności 100 oraz 100 iteracji, rozwiązanie jest blisko minimum globalnego w (0,0,0)."
   ]
  },
  {
   "cell_type": "markdown",
   "metadata": {},
   "source": [
    "## funkcja Rastrigina w $R^5$: $f(x) = 5A + \\sum_{i=1}^5(x_i^2-Acos(\\pi x_i))$, $A=10$"
   ]
  },
  {
   "cell_type": "code",
   "execution_count": 6,
   "metadata": {},
   "outputs": [],
   "source": [
    "def rastrigin(x, A=10):\n",
    "    \"\"\"funckja rastrigina\"\"\"\n",
    "    return (A*len(x) + np.sum(x**2 - A*np.cos(2*np.pi*x)))"
   ]
  },
  {
   "cell_type": "code",
   "execution_count": 7,
   "metadata": {},
   "outputs": [],
   "source": [
    "def eval_2(osobnik, arguments = False):\n",
    "    target = rastrigin(osobnik)\n",
    "    if arguments:\n",
    "        return (osobnik, 1/target)\n",
    "    return 1/target   "
   ]
  },
  {
   "cell_type": "markdown",
   "metadata": {},
   "source": [
    "#### Tutaj ponownie przetestujemy algorytm 10 razy, wynik w formacie $(x, 1/f(x))$"
   ]
  },
  {
   "cell_type": "code",
   "execution_count": 8,
   "metadata": {},
   "outputs": [
    {
     "name": "stdout",
     "output_type": "stream",
     "text": [
      "(array([0.00013172, 0.0036699 , 0.00550648]), 115.07203619885341)\n",
      "(array([ 0.00910999, -0.05781656,  0.00174594]), 1.4858468821286863)\n",
      "(array([ 0.00209679, -0.07291225, -0.01053509]), 0.9439755537184711)\n",
      "(array([ 0.02049235, -0.0308745 , -0.04465633]), 1.5042619016761414)\n",
      "(array([ 0.03745703,  0.04220894, -0.00678303]), 1.5683857386601279)\n",
      "(array([ 0.03255736,  0.01406953, -0.02439518]), 2.727409863935959)\n",
      "(array([-0.00179288,  0.02538756, -0.0094037 ]), 6.859832575894723)\n",
      "(array([ 0.00791516, -0.03128193, -0.00599914]), 4.693002140840459)\n",
      "(array([-0.00804685,  0.04409351, -0.00882773]), 2.4297026228004976)\n",
      "(array([-0.03992151, -0.02702822,  0.00836931]), 2.11410119664095)\n"
     ]
    }
   ],
   "source": [
    "for i in range(10):\n",
    "    evo = evolution(100, 3, eval_2, init_method='dupa')\n",
    "    print(evo.evolve())"
   ]
  },
  {
   "cell_type": "code",
   "execution_count": null,
   "metadata": {},
   "outputs": [],
   "source": []
  }
 ],
 "metadata": {
  "kernelspec": {
   "display_name": "Python 3",
   "language": "python",
   "name": "python3"
  },
  "language_info": {
   "codemirror_mode": {
    "name": "ipython",
    "version": 3
   },
   "file_extension": ".py",
   "mimetype": "text/x-python",
   "name": "python",
   "nbconvert_exporter": "python",
   "pygments_lexer": "ipython3",
   "version": "3.6.8"
  }
 },
 "nbformat": 4,
 "nbformat_minor": 2
}
