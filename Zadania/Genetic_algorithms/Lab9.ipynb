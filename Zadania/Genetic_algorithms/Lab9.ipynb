{
 "cells": [
  {
   "cell_type": "markdown",
   "metadata": {},
   "source": [
    "# Lab 3.1 - Algorytmy genetyczne"
   ]
  },
  {
   "cell_type": "code",
   "execution_count": 1,
   "metadata": {},
   "outputs": [],
   "source": [
    "import numpy as np\n",
    "import random"
   ]
  },
  {
   "cell_type": "code",
   "execution_count": 21,
   "metadata": {},
   "outputs": [],
   "source": [
    "class evolution:\n",
    "    \n",
    "    def __init__(self, population_size, chr_size, target_convert_function, init_method = 'binary'):\n",
    "        self.n = population_size\n",
    "        self.m = chr_size\n",
    "        self.target = target_convert_function\n",
    "        self.best = None\n",
    "        self.generation = []\n",
    "        \n",
    "        # initialize random generation\n",
    "        if init_method == 'binary':\n",
    "            for i in range(self.n):\n",
    "                self.generation.append(np.random.choice([0, 1], size=(self.m), p=[0.5,0.5]))\n",
    "        else:\n",
    "            for i in range(self.n):\n",
    "                self.generation.append(np.random.uniform(-8, 8, self.m))\n",
    "        self.generation = np.asarray(self.generation)\n",
    "\n",
    "    def cross(self,x,y):\n",
    "        \"\"\"\n",
    "        krzyżowanie jednopunktowe, punkt podziału jest losowy z orzedziału [1,len-1]\n",
    "        \"\"\"\n",
    "        \n",
    "        split = random.randint(1,len(x)-1)\n",
    "        x_1 = x[0:split]\n",
    "        x_2 = x[split:len(x)]\n",
    "        y_1 = y[0:split]\n",
    "        y_2 = y[split:len(y)]\n",
    "        child_1 = [*x_1, *y_2]\n",
    "        child_2 = [*y_1, *x_2]\n",
    "        return [child_1, child_2]\n",
    "    \n",
    "    def mutate(self, generation, p=0.2):\n",
    "        \"\"\"\n",
    "        mutacja gaussowska, każdy gen jest modyfikowany o zmienną standardową normalną z prawd. p\n",
    "        \"\"\"\n",
    "        for i, osobnik in enumerate(generation):\n",
    "            for j, gen in enumerate(osobnik):\n",
    "                decision = random.uniform(0,1)\n",
    "                if decision < p:\n",
    "                    generation[i][j] += np.random.normal(0,1)\n",
    "        return generation\n",
    "    \n",
    "    def evolve(self):\n",
    "        \"\"\"\n",
    "        główna funkcja przeprowadzająca ewolucję i szukająca minimum\n",
    "        \"\"\"\n",
    "        it = 0\n",
    "        current_best_value = -1\n",
    "        while True:\n",
    "            it +=1\n",
    "            \n",
    "            # evaluate\n",
    "            values = np.asarray([self.target(self.generation[i]) for i in range(self.n)])\n",
    "            for i, value in enumerate(values):\n",
    "                if value > current_best_value:\n",
    "                    self.best = self.generation[i]\n",
    "                    current_best_value = value\n",
    "                        \n",
    "            # check stop condition\n",
    "            if (self.target(self.best) >= 590):\n",
    "                #return self.target(self.best)\n",
    "                #return it\n",
    "                return (it, self.target(self.best))\n",
    "            \n",
    "            # select parents for new generation\n",
    "            prob = values/values.sum()\n",
    "            choices = np.random.choice([i for i in range(self.n)], size=self.n, p=prob)\n",
    "            generation_parents = [self.generation[choice] for choice in choices]\n",
    "            \n",
    "            # cross\n",
    "            next_generation = []\n",
    "            p_cross = 0.7\n",
    "            \n",
    "            while(len(next_generation) < self.n):\n",
    "                decision = random.uniform(0,1)\n",
    "                if decision < 0.7:\n",
    "                    # cross\n",
    "                    parents = random.sample([i for i in range(self.n)], 2)\n",
    "                    children = self.cross(generation_parents[parents[0]], generation_parents[parents[1]])\n",
    "                    next_generation.append(children[0])\n",
    "                    next_generation.append(children[1])\n",
    "                else:\n",
    "                    # random osobnik\n",
    "                    next_generation.append([*generation_parents[random.sample([i for i in range(self.n)], 1)[0]]])\n",
    "                    \n",
    "            if len(next_generation) > self.n:\n",
    "                next_generation = next_generation[0:self.n]\n",
    "                    \n",
    "            # mutate\n",
    "            next_generation = self.mutate(next_generation)\n",
    "            \n",
    "            # update\n",
    "            self.generation = np.asarray(next_generation)\n",
    "\n"
   ]
  },
  {
   "cell_type": "markdown",
   "metadata": {},
   "source": [
    "## Funkcja kwadratowa"
   ]
  },
  {
   "cell_type": "code",
   "execution_count": 3,
   "metadata": {},
   "outputs": [],
   "source": [
    "def target_1(x,y,z):\n",
    "    return (x**2) + (y**2) + 2*(z**2)"
   ]
  },
  {
   "cell_type": "code",
   "execution_count": 14,
   "metadata": {},
   "outputs": [],
   "source": [
    "def eval_1(osobnik, arguments = False):\n",
    "    target = target_1(osobnik[0],osobnik[1],osobnik[2])\n",
    "    if arguments:\n",
    "        return (x,y,z,1024-target)\n",
    "    return 1024 - target   "
   ]
  },
  {
   "cell_type": "code",
   "execution_count": 5,
   "metadata": {},
   "outputs": [],
   "source": [
    "evo = evolution(100, 3, eval_1, init_method='dupa')"
   ]
  },
  {
   "cell_type": "code",
   "execution_count": 6,
   "metadata": {},
   "outputs": [
    {
     "data": {
      "text/plain": [
       "(165, 1023.2923797685013)"
      ]
     },
     "execution_count": 6,
     "metadata": {},
     "output_type": "execute_result"
    }
   ],
   "source": [
    "evo.evolve()"
   ]
  },
  {
   "cell_type": "markdown",
   "metadata": {},
   "source": [
    "## Funkcja Rastrigina"
   ]
  },
  {
   "cell_type": "code",
   "execution_count": 7,
   "metadata": {},
   "outputs": [],
   "source": [
    "def rastrigin_5(x, A=10):\n",
    "    \"\"\"funckja rastrigina\"\"\"\n",
    "    return (A*len(x) + np.sum(x**2 - A*np.cos(2*np.pi*x)))"
   ]
  },
  {
   "cell_type": "code",
   "execution_count": 13,
   "metadata": {},
   "outputs": [
    {
     "data": {
      "text/plain": [
       "500.0"
      ]
     },
     "execution_count": 13,
     "metadata": {},
     "output_type": "execute_result"
    }
   ],
   "source": [
    "rastrigin_5(np.array([-10,-10,-10,-10,-10]))"
   ]
  },
  {
   "cell_type": "code",
   "execution_count": 15,
   "metadata": {},
   "outputs": [],
   "source": [
    "def eval_2(osobnik, arguments = False):\n",
    "    target = rastrigin_5(osobnik)\n",
    "    if arguments:\n",
    "        return (osobnik, 600-target)\n",
    "    return 600 - target   "
   ]
  },
  {
   "cell_type": "code",
   "execution_count": 24,
   "metadata": {},
   "outputs": [
    {
     "data": {
      "text/plain": [
       "(18, 594.0536793700562)"
      ]
     },
     "execution_count": 24,
     "metadata": {},
     "output_type": "execute_result"
    }
   ],
   "source": [
    "evo = evolution(100, 3, eval_2, init_method='dupa')\n",
    "evo.evolve()"
   ]
  },
  {
   "cell_type": "code",
   "execution_count": null,
   "metadata": {},
   "outputs": [],
   "source": []
  },
  {
   "cell_type": "code",
   "execution_count": null,
   "metadata": {},
   "outputs": [],
   "source": []
  },
  {
   "cell_type": "code",
   "execution_count": null,
   "metadata": {},
   "outputs": [],
   "source": []
  }
 ],
 "metadata": {
  "kernelspec": {
   "display_name": "Python 3",
   "language": "python",
   "name": "python3"
  },
  "language_info": {
   "codemirror_mode": {
    "name": "ipython",
    "version": 3
   },
   "file_extension": ".py",
   "mimetype": "text/x-python",
   "name": "python",
   "nbconvert_exporter": "python",
   "pygments_lexer": "ipython3",
   "version": "3.6.8"
  }
 },
 "nbformat": 4,
 "nbformat_minor": 2
}
