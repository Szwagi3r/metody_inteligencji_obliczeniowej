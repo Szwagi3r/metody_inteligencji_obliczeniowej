{
 "cells": [
  {
   "cell_type": "markdown",
   "metadata": {},
   "source": [
    "## Lab3 - momentum"
   ]
  },
  {
   "cell_type": "code",
   "execution_count": null,
   "metadata": {},
   "outputs": [],
   "source": [
    "import numpy as np\n",
    "import pandas as pd\n",
    "import seaborn as sns\n",
    "from matplotlib import pyplot as plt\n",
    "from sklearn import metrics\n",
    "import math\n",
    "import time"
   ]
  },
  {
   "cell_type": "code",
   "execution_count": 184,
   "metadata": {},
   "outputs": [],
   "source": [
    "class MLP:\n",
    "\n",
    "    def __init__(self, weights, bias, num_outputs=1, num_hidden=1, activation_function=\"sigmoid\"):\n",
    "        self.weights = weights\n",
    "        self.bias = bias\n",
    "        self.activation_function = activation_function\n",
    "        self.num_hidden = len(weights) - 1\n",
    "        self.num_neurons = [weights[0].shape[0]]\n",
    "\n",
    "        for i in range(len(weights)):\n",
    "            self.num_neurons.append(weights[i].shape[1])\n",
    "        self.num_inputs = self.num_neurons[0]\n",
    "        self.num_outputs = self.num_neurons[-1]\n",
    "\n",
    "        # verify if dimensions are correct\n",
    "        for i in range(len(weights) - 1):\n",
    "            if (weights[i].shape[1] != weights[i + 1].shape[0]):\n",
    "                print(\"Weights' dimensions between layers \" + str(i) + \" and \" + str(i + 1) + \"are incorrect!\")\n",
    "        for i in range(len(bias)):\n",
    "            if (weights[i].shape[1] != bias[i].size):\n",
    "                print(\"Bias size in layer \" + str(i) + \" is incorrect!\")\n",
    "\n",
    "    def forward_prop(self, inputs):\n",
    "        \"\"\"\n",
    "        performs forward propagation\n",
    "        \"\"\"\n",
    "        # activations and linear combinations passed to activation function\n",
    "        self.a = []\n",
    "        self.z = []\n",
    "\n",
    "        activation_function = self.get_activation_function(self.activation_function)\n",
    "        activations = inputs\n",
    "        self.a.append(activations)\n",
    "        for i in range(self.num_hidden):\n",
    "            outputs = np.dot(activations, self.weights[i]) + self.bias[i]\n",
    "            self.z.append(outputs)\n",
    "            activations = activation_function(outputs)\n",
    "            self.a.append(activations)\n",
    "\n",
    "        results = np.dot(activations, self.weights[self.num_hidden]) + self.bias[self.num_hidden]\n",
    "        self.z.append(results)\n",
    "        self.a.append(results)\n",
    "        return results\n",
    "\n",
    "    def backpropagation(self, y):\n",
    "        \"\"\"\n",
    "        backpropagataes error to calculate derivatives\n",
    "        \"\"\"\n",
    "        deltas = [None] * len(self.weights)\n",
    "        deltas[-1] = y - self.a[-1]\n",
    "        for i in reversed(range(len(deltas) - 1)):\n",
    "            deltas[i] = (self.weights[i + 1].dot(deltas[i + 1].T) * (\n",
    "                self.get_activation_function_derivitive(self.activation_function)(self.z[i]).T)).T\n",
    "        \n",
    "        batch_size = y.shape[0]\n",
    "        db = [d.T.dot(np.ones((batch_size, 1))).T / float(batch_size) for d in deltas]\n",
    "        dw = [(d.T.dot(self.a[i])).T / float(batch_size) for i, d in enumerate(deltas)]\n",
    "        return dw, db\n",
    "\n",
    "    def train(self, x, y, epochs = 500, learning_rate = 0.1, batch_size = None, verbose = False):\n",
    "        \"\"\"\n",
    "        train network\n",
    "        \"\"\"\n",
    "        if batch_size is None:\n",
    "            batch_size = x.shape[0]\n",
    "        for epoch in range(epochs):\n",
    "            i = 0\n",
    "            batch_counter = 0\n",
    "            while i < len(y):\n",
    "                batch_counter += 1\n",
    "                x_batch = x[i:i + batch_size]\n",
    "                y_batch = y[i:i + batch_size]\n",
    "                i = i + batch_size\n",
    "                \n",
    "                self.forward_prop(x_batch)\n",
    "                dw, db = self.backpropagation(y_batch)\n",
    "                \n",
    "                self.weights = [w + learning_rate * dweight for w, dweight in zip(self.weights, dw)]\n",
    "                self.bias = [w + learning_rate * dbias for w, dbias in zip(self.bias, db)]\n",
    "                if verbose or epoch in [0,epochs-1]:\n",
    "                    if batch_size == x.shape[0]:\n",
    "                        print(\"Epoch: {: <5} Error: {}\".format(epoch, np.linalg.norm(self.a[-1] - y_batch)))\n",
    "                    else:\n",
    "                        print(\"Epoch: {: <5} Batch: {: <3} Error: {}\".\n",
    "                              format(epoch+1, batch_counter, np.linalg.norm(self.a[-1] - y_batch)))\n",
    "        return\n",
    "                        \n",
    "    def train_momentum(self, x, y, epochs = 500, learning_rate = 0.1, verbose = False, momentum_factor = 0.9):\n",
    "        \"\"\"\n",
    "        train network\n",
    "        \"\"\"\n",
    "        momentum_w = []\n",
    "        momentum_b = []\n",
    "        for i in range(len(self.num_neurons)-1):\n",
    "            momentum_w.append(np.zeros(self.num_neurons[i] * self.num_neurons[i+1]).reshape(self.num_neurons[i],-1))\n",
    "            momentum_b.append(np.zeros(self.num_neurons[i+1]).reshape(1,-1))\n",
    "        \n",
    "        for epoch in range(epochs):\n",
    "            self.forward_prop(x)\n",
    "            dw, db = self.backpropagation(y)\n",
    "            \n",
    "            # momentum = gradient + lambda * momentum\n",
    "            momentum_w = [dweight + momentum_factor * momentum_prev for dweight, momentum_prev in zip(dw, momentum_w)]\n",
    "            momentum_b = [dbias + momentum_factor * momentum_prev for dbias, momentum_prev in zip(db, momentum_b)]\n",
    "            \n",
    "            self.weights = [w + learning_rate * weight_momentum for w, weight_momentum in zip(self.weights, momentum_w)]\n",
    "            self.bias = [w + learning_rate * bias_momentum for w, bias_momentum in zip(self.bias, momentum_b)]\n",
    "            \n",
    "            if verbose or epoch in [0,epochs-1]:\n",
    "                print(\"Epoch: {: <5} Error: {}\".format(epoch, np.linalg.norm(self.a[-1] - y)))\n",
    "        return\n",
    "                    \n",
    "    @staticmethod\n",
    "    def get_activation_function(name):\n",
    "        if (name == 'sigmoid'):\n",
    "            return lambda x: np.exp(x) / (1 + np.exp(x))\n",
    "        elif (name == 'linear'):\n",
    "            return lambda x: x\n",
    "        else:\n",
    "            print('Wrong activation function; linear was used instead')\n",
    "            return lambda x: x\n",
    "\n",
    "    @staticmethod\n",
    "    def get_activation_function_derivitive(name):\n",
    "        if (name == 'sigmoid'):\n",
    "            sigmoid = lambda x: np.exp(x) / (1 + np.exp(x))\n",
    "            return lambda x: sigmoid(x) * (1 - sigmoid(x))\n",
    "        elif (name == 'linear'):\n",
    "            return lambda x: 1\n",
    "        else:\n",
    "            print('Wrong activation function; linear was used instead')\n",
    "            return lambda x: 1\n",
    "\n",
    "    def show_attributes(self):\n",
    "        \"\"\"\n",
    "        gives basic information about the neural network\n",
    "        \"\"\"\n",
    "        print(\"Neural Network attributes:\")\n",
    "        print(\"-------------------------\")\n",
    "        print(\"Number of neurons in layers: {}\".format(self.num_neurons))\n",
    "        print(\"Number of predictors: {}\".format(self.num_inputs))\n",
    "        print(\"Number of hidden layers: {}\".format(self.num_hidden))\n",
    "        print(\"Number of targets: {}\".format(self.num_outputs))\n",
    "        print(\"Activations function used: {}\".format(self.activation_function))\n",
    "        return\n",
    "    \n",
    "    def visualize(self, axis = False):\n",
    "        \"\"\"\n",
    "        displays graph visualization for neural network \n",
    "        \"\"\"\n",
    "        x = []\n",
    "        y = []\n",
    "        all_weights = []\n",
    "        all_biases = [None]\n",
    "        \n",
    "        for weight in self.weights:\n",
    "            for row in weight:\n",
    "                for i in row:\n",
    "                    all_weights.append(round(i,2))\n",
    "        for bias in self.bias:\n",
    "            for row in bias:\n",
    "                for i in row:\n",
    "                    all_biases.append(round(i,2))\n",
    "        weight_counter = 0\n",
    "        bias_counter = 0\n",
    "        \n",
    "        plt.figure(figsize=(20,10))\n",
    "        \n",
    "        for i, layer in enumerate(self.num_neurons):            \n",
    "            layer_points_x = [i] * layer\n",
    "            layer_points_y = np.linspace(-10, 10, num=layer)\n",
    "            if layer == 1:\n",
    "                layer_points_y[0] += 10\n",
    "            if i==0:\n",
    "                    previous_layer_x = layer_points_x\n",
    "                    previous_layer_y = layer_points_y\n",
    "            else:\n",
    "                for l1 in previous_layer_y:\n",
    "                    for l2 in layer_points_y:\n",
    "                        plt.plot([i-1, i],[l1, l2], color=\"lightblue\")\n",
    "                        plt.text(i-0.3,0.3*l1+0.7*l2, all_weights[weight_counter], size=15)\n",
    "                        weight_counter += 1\n",
    "                previous_layer_x = layer_points_x\n",
    "                previous_layer_y = layer_points_y\n",
    "            \n",
    "            x.extend(layer_points_x)\n",
    "            y.extend(layer_points_y)\n",
    "            \n",
    "        plt.scatter(x,y, color=\"brown\", s=75)\n",
    "        \n",
    "        for i, txt in enumerate(all_biases):\n",
    "            plt.annotate(txt, (x[i], y[i]+0.5), size=15)\n",
    "        if not axis:\n",
    "            plt.axis(\"off\")\n",
    "        plt.title(\"Neural network graph\", fontsize=20)\n",
    "        plt.show()\n",
    "        return\n",
    "\n",
    "\n",
    "def generate_random_mlp(num_inputs, num_hidden, num_targets, start=0, stop=1):\n",
    "    \"\"\"\n",
    "    generates mlp with random weights given number of neurons in each layer\n",
    "    \"\"\"\n",
    "    weights = []\n",
    "    bias = []\n",
    "    weights.append(np.random.uniform(start, stop, num_inputs * num_hidden[0]).reshape(num_inputs, -1))\n",
    "    for i in range(len(num_hidden) - 1):\n",
    "        weights.append(np.random.uniform(start, stop, num_hidden[i] * num_hidden[i + 1]).reshape(num_hidden[i], -1))\n",
    "        bias.append(np.random.uniform(start, stop, num_hidden[i]).reshape(1, -1))\n",
    "    weights.append(np.random.uniform(start, stop, num_hidden[-1] * num_targets).reshape(-1, num_targets))\n",
    "    bias.append(np.random.uniform(start, stop, num_hidden[-1]).reshape(1, -1))\n",
    "    bias.append(np.random.uniform(start, stop, num_targets).reshape(1, -1))\n",
    "    mlp = MLP(weights, bias)\n",
    "    return mlp"
   ]
  },
  {
   "cell_type": "code",
   "execution_count": 194,
   "metadata": {},
   "outputs": [],
   "source": [
    "train_df = pd.read_csv('~/Documents/Sem6/MIO/datasets/regression/square-simple-training.csv', index_col=0)\n",
    "test_df = pd.read_csv('~/Documents/Sem6/MIO/datasets/regression/square-simple-test.csv', index_col=0)"
   ]
  },
  {
   "cell_type": "code",
   "execution_count": 195,
   "metadata": {},
   "outputs": [
    {
     "data": {
      "text/html": [
       "<div>\n",
       "<style scoped>\n",
       "    .dataframe tbody tr th:only-of-type {\n",
       "        vertical-align: middle;\n",
       "    }\n",
       "\n",
       "    .dataframe tbody tr th {\n",
       "        vertical-align: top;\n",
       "    }\n",
       "\n",
       "    .dataframe thead th {\n",
       "        text-align: right;\n",
       "    }\n",
       "</style>\n",
       "<table border=\"1\" class=\"dataframe\">\n",
       "  <thead>\n",
       "    <tr style=\"text-align: right;\">\n",
       "      <th></th>\n",
       "      <th>x</th>\n",
       "      <th>y</th>\n",
       "      <th>split</th>\n",
       "    </tr>\n",
       "  </thead>\n",
       "  <tbody>\n",
       "    <tr>\n",
       "      <th>1</th>\n",
       "      <td>-0.171543</td>\n",
       "      <td>-127.351580</td>\n",
       "      <td>train</td>\n",
       "    </tr>\n",
       "    <tr>\n",
       "      <th>2</th>\n",
       "      <td>0.025201</td>\n",
       "      <td>-129.942844</td>\n",
       "      <td>train</td>\n",
       "    </tr>\n",
       "    <tr>\n",
       "      <th>3</th>\n",
       "      <td>-1.368991</td>\n",
       "      <td>38.672367</td>\n",
       "      <td>train</td>\n",
       "    </tr>\n",
       "    <tr>\n",
       "      <th>4</th>\n",
       "      <td>1.907390</td>\n",
       "      <td>197.432191</td>\n",
       "      <td>train</td>\n",
       "    </tr>\n",
       "    <tr>\n",
       "      <th>5</th>\n",
       "      <td>0.011129</td>\n",
       "      <td>-129.988852</td>\n",
       "      <td>train</td>\n",
       "    </tr>\n",
       "    <tr>\n",
       "      <th>...</th>\n",
       "      <td>...</td>\n",
       "      <td>...</td>\n",
       "      <td>...</td>\n",
       "    </tr>\n",
       "    <tr>\n",
       "      <th>96</th>\n",
       "      <td>1.315377</td>\n",
       "      <td>25.719403</td>\n",
       "      <td>test</td>\n",
       "    </tr>\n",
       "    <tr>\n",
       "      <th>97</th>\n",
       "      <td>-1.196968</td>\n",
       "      <td>-1.054107</td>\n",
       "      <td>test</td>\n",
       "    </tr>\n",
       "    <tr>\n",
       "      <th>98</th>\n",
       "      <td>1.544766</td>\n",
       "      <td>84.767303</td>\n",
       "      <td>test</td>\n",
       "    </tr>\n",
       "    <tr>\n",
       "      <th>99</th>\n",
       "      <td>0.441051</td>\n",
       "      <td>-112.492699</td>\n",
       "      <td>test</td>\n",
       "    </tr>\n",
       "    <tr>\n",
       "      <th>100</th>\n",
       "      <td>-0.025176</td>\n",
       "      <td>-129.942957</td>\n",
       "      <td>test</td>\n",
       "    </tr>\n",
       "  </tbody>\n",
       "</table>\n",
       "<p>200 rows × 3 columns</p>\n",
       "</div>"
      ],
      "text/plain": [
       "            x           y  split\n",
       "1   -0.171543 -127.351580  train\n",
       "2    0.025201 -129.942844  train\n",
       "3   -1.368991   38.672367  train\n",
       "4    1.907390  197.432191  train\n",
       "5    0.011129 -129.988852  train\n",
       "..        ...         ...    ...\n",
       "96   1.315377   25.719403   test\n",
       "97  -1.196968   -1.054107   test\n",
       "98   1.544766   84.767303   test\n",
       "99   0.441051 -112.492699   test\n",
       "100 -0.025176 -129.942957   test\n",
       "\n",
       "[200 rows x 3 columns]"
      ]
     },
     "execution_count": 195,
     "metadata": {},
     "output_type": "execute_result"
    }
   ],
   "source": [
    "train_df['split'] = 'train'\n",
    "test_df['split'] = 'test'\n",
    "df = pd.concat([train_df, test_df])\n",
    "df"
   ]
  },
  {
   "cell_type": "code",
   "execution_count": 196,
   "metadata": {},
   "outputs": [
    {
     "data": {
      "text/plain": [
       "Text(0.5, 1.0, 'Train split')"
      ]
     },
     "execution_count": 196,
     "metadata": {},
     "output_type": "execute_result"
    },
    {
     "data": {
      "image/png": "[encoded data removed]",
      "text/plain": [
       "<Figure size 432x288 with 1 Axes>"
      ]
     },
     "metadata": {
      "needs_background": "light"
     },
     "output_type": "display_data"
    }
   ],
   "source": [
    "sns.scatterplot(x='x', y='y', data=train_df)\n",
    "plt.title('Train split', fontsize=20)"
   ]
  },
  {
   "cell_type": "code",
   "execution_count": 226,
   "metadata": {},
   "outputs": [
    {
     "name": "stdout",
     "output_type": "stream",
     "text": [
      "Neural Network attributes:\n",
      "-------------------------\n",
      "Number of neurons in layers: [1, 4, 1]\n",
      "Number of predictors: 1\n",
      "Number of hidden layers: 1\n",
      "Number of targets: 1\n",
      "Activations function used: sigmoid\n"
     ]
    }
   ],
   "source": [
    "mymlp = generate_random_mlp(1, [4], 1)\n",
    "mymlp.show_attributes()"
   ]
  },
  {
   "cell_type": "code",
   "execution_count": 227,
   "metadata": {},
   "outputs": [
    {
     "name": "stdout",
     "output_type": "stream",
     "text": [
      "Epoch: 0     Error: 1009.6633171390956\n",
      "Epoch: 29999 Error: 919.1361968639744\n"
     ]
    }
   ],
   "source": [
    "mymlp.train_momentum(np.asarray(train_df['x']).reshape(-1,1) + np.ones(100).reshape(100,1), np.asarray(train_df['y']).reshape(-1,1), 30000, 0.001)"
   ]
  },
  {
   "cell_type": "code",
   "execution_count": 228,
   "metadata": {},
   "outputs": [
    {
     "data": {
      "text/plain": [
       "Text(0.5, 1.0, 'Test performance with momentum')"
      ]
     },
     "execution_count": 228,
     "metadata": {},
     "output_type": "execute_result"
    },
    {
     "data": {
      "image/png": "[encoded data removed]",
      "text/plain": [
       "<Figure size 432x288 with 1 Axes>"
      ]
     },
     "metadata": {
      "needs_background": "light"
     },
     "output_type": "display_data"
    }
   ],
   "source": [
    "result = mymlp.forward_prop(np.asarray(test_df['x']).reshape(-1,1) + np.ones(100).reshape(100,1))\n",
    "sns.scatterplot(x='x', y='y', data=test_df)\n",
    "sns.scatterplot(x=test_df['x'], y=np.concatenate(result))\n",
    "plt.title('Test performance with momentum', fontsize=20)"
   ]
  },
  {
   "cell_type": "code",
   "execution_count": 238,
   "metadata": {},
   "outputs": [],
   "source": [
    "train_df = pd.read_csv('/home/szwagier/Documents/Sem6/MIO/datasets/regression/steps-large-training.csv', index_col=0)\n",
    "test_df = pd.read_csv('/home/szwagier/Documents/Sem6/MIO/datasets/regression/steps-large-test.csv', index_col=0)"
   ]
  },
  {
   "cell_type": "code",
   "execution_count": 239,
   "metadata": {},
   "outputs": [
    {
     "name": "stdout",
     "output_type": "stream",
     "text": [
      "Epoch: 0     Error: 8536.335862729522\n",
      "Epoch: 9999  Error: 768.6022097116659\n",
      "Czas uczenia z momentum: 127.29624629020691\n"
     ]
    },
    {
     "data": {
      "text/plain": [
       "Text(0.5, 1.0, 'Test performance with momentum')"
      ]
     },
     "execution_count": 239,
     "metadata": {},
     "output_type": "execute_result"
    },
    {
     "data": {
      "image/png": "[encoded data removed]",
      "text/plain": [
       "<Figure size 432x288 with 1 Axes>"
      ]
     },
     "metadata": {
      "needs_background": "light"
     },
     "output_type": "display_data"
    }
   ],
   "source": [
    "mymlp = mymlp = generate_random_mlp(1, [4], 1, start=0, stop=1)\n",
    "start = time.time()\n",
    "mymlp.train_momentum(np.asarray(train_df['x']).reshape(-1,1), np.asarray(train_df['y']).reshape(-1,1), 10000, 0.001)\n",
    "end = time.time()\n",
    "print(\"Czas uczenia z momentum: {}\".format(end-start))\n",
    "result = mymlp.forward_prop(np.asarray(test_df['x']).reshape(-1,1))\n",
    "sns.scatterplot(x='x', y='y', data=test_df)\n",
    "sns.scatterplot(x=test_df['x'], y=np.concatenate(result))\n",
    "plt.title('Test performance with momentum', fontsize=20)"
   ]
  },
  {
   "cell_type": "code",
   "execution_count": 240,
   "metadata": {},
   "outputs": [],
   "source": [
    "train_df = pd.read_csv('~/Documents/Sem6/MIO/datasets/regression/multimodal-large-training.csv', index_col=0)\n",
    "test_df = pd.read_csv('~/Documents/Sem6/MIO/datasets/regression/multimodal-large-test.csv', index_col=0)"
   ]
  },
  {
   "cell_type": "code",
   "execution_count": 241,
   "metadata": {},
   "outputs": [
    {
     "name": "stdout",
     "output_type": "stream",
     "text": [
      "Epoch: 0     Error: 8424.67449195315\n",
      "Epoch: 9999  Error: 749.3681501987004\n",
      "Czas uczenia z momentum: 129.63217449188232\n"
     ]
    },
    {
     "data": {
      "text/plain": [
       "Text(0.5, 1.0, 'Test performance with momentum')"
      ]
     },
     "execution_count": 241,
     "metadata": {},
     "output_type": "execute_result"
    },
    {
     "data": {
      "image/png": "[encoded data removed]",
      "text/plain": [
       "<Figure size 432x288 with 1 Axes>"
      ]
     },
     "metadata": {
      "needs_background": "light"
     },
     "output_type": "display_data"
    }
   ],
   "source": [
    "mymlp = mymlp = generate_random_mlp(1, [4], 1, start=0, stop=1)\n",
    "start = time.time()\n",
    "mymlp.train_momentum(np.asarray(train_df['x']).reshape(-1,1), np.asarray(train_df['y']).reshape(-1,1), 10000, 0.001)\n",
    "end = time.time()\n",
    "print(\"Czas uczenia z momentum: {}\".format(end-start))\n",
    "result = mymlp.forward_prop(np.asarray(test_df['x']).reshape(-1,1))\n",
    "sns.scatterplot(x='x', y='y', data=test_df)\n",
    "sns.scatterplot(x=test_df['x'], y=np.concatenate(result))\n",
    "plt.title('Test performance with momentum', fontsize=20)"
   ]
  },
  {
   "cell_type": "code",
   "execution_count": null,
   "metadata": {},
   "outputs": [],
   "source": []
  }
 ],
 "metadata": {
  "kernelspec": {
   "display_name": "Python 3",
   "language": "python",
   "name": "python3"
  },
  "language_info": {
   "codemirror_mode": {
    "name": "ipython",
    "version": 3
   },
   "file_extension": ".py",
   "mimetype": "text/x-python",
   "name": "python",
   "nbconvert_exporter": "python",
   "pygments_lexer": "ipython3",
   "version": "3.6.8"
  }
 },
 "nbformat": 4,
 "nbformat_minor": 2
}
